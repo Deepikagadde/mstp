{
 "cells": [
  {
   "cell_type": "markdown",
   "metadata": {},
   "source": [
    "### Time Series"
   ]
  },
  {
   "cell_type": "code",
   "execution_count": 1,
   "metadata": {},
   "outputs": [],
   "source": [
    "from datetime import datetime"
   ]
  },
  {
   "cell_type": "code",
   "execution_count": 2,
   "metadata": {},
   "outputs": [],
   "source": [
    "a=datetime.now()"
   ]
  },
  {
   "cell_type": "code",
   "execution_count": 3,
   "metadata": {},
   "outputs": [
    {
     "data": {
      "text/plain": [
       "datetime.datetime(2020, 1, 3, 9, 27, 57, 190800)"
      ]
     },
     "execution_count": 3,
     "metadata": {},
     "output_type": "execute_result"
    }
   ],
   "source": [
    "a"
   ]
  },
  {
   "cell_type": "code",
   "execution_count": 4,
   "metadata": {},
   "outputs": [
    {
     "data": {
      "text/plain": [
       "datetime.date(2020, 1, 3)"
      ]
     },
     "execution_count": 4,
     "metadata": {},
     "output_type": "execute_result"
    }
   ],
   "source": [
    "a.date()"
   ]
  },
  {
   "cell_type": "code",
   "execution_count": 5,
   "metadata": {},
   "outputs": [
    {
     "data": {
      "text/plain": [
       "2020"
      ]
     },
     "execution_count": 5,
     "metadata": {},
     "output_type": "execute_result"
    }
   ],
   "source": [
    "a.year"
   ]
  },
  {
   "cell_type": "code",
   "execution_count": 6,
   "metadata": {},
   "outputs": [
    {
     "data": {
      "text/plain": [
       "3"
      ]
     },
     "execution_count": 6,
     "metadata": {},
     "output_type": "execute_result"
    }
   ],
   "source": [
    "a.day"
   ]
  },
  {
   "cell_type": "code",
   "execution_count": 7,
   "metadata": {},
   "outputs": [],
   "source": [
    "from datetime import *"
   ]
  },
  {
   "cell_type": "code",
   "execution_count": 8,
   "metadata": {},
   "outputs": [],
   "source": [
    "import *?"
   ]
  },
  {
   "cell_type": "code",
   "execution_count": 9,
   "metadata": {},
   "outputs": [
    {
     "name": "stdout",
     "output_type": "stream",
     "text": [
      "date: 3-1-2020\n"
     ]
    }
   ],
   "source": [
    "from datetime import *\n",
    "now=datetime.now()\n",
    "print(\"date: {}-{}-{}\".format(now.day,now.month,now.year))"
   ]
  },
  {
   "cell_type": "code",
   "execution_count": 13,
   "metadata": {},
   "outputs": [
    {
     "name": "stdout",
     "output_type": "stream",
     "text": [
      "time: 9:31:42:117219\n"
     ]
    }
   ],
   "source": [
    "print(\"time: {}:{}:{}:{}\".format(now.hour,now.minute,now.second,now.microsecond))"
   ]
  },
  {
   "cell_type": "code",
   "execution_count": 17,
   "metadata": {},
   "outputs": [
    {
     "name": "stdout",
     "output_type": "stream",
     "text": [
      "2020-01-03 09:36:52.900282\n",
      "2020-01-03\n"
     ]
    }
   ],
   "source": [
    "td=datetime.today()\n",
    "print(td)\n",
    "t=date.today()\n",
    "print(t)"
   ]
  },
  {
   "cell_type": "code",
   "execution_count": 23,
   "metadata": {},
   "outputs": [
    {
     "data": {
      "text/plain": [
       "datetime.timedelta(days=7623, seconds=51660)"
      ]
     },
     "execution_count": 23,
     "metadata": {},
     "output_type": "execute_result"
    }
   ],
   "source": [
    "b=datetime(2020,1,3)-datetime(1999,2,18,9,39,0)\n",
    "b"
   ]
  },
  {
   "cell_type": "code",
   "execution_count": 24,
   "metadata": {},
   "outputs": [
    {
     "data": {
      "text/plain": [
       "7623"
      ]
     },
     "execution_count": 24,
     "metadata": {},
     "output_type": "execute_result"
    }
   ],
   "source": [
    "b=datetime(2020,1,3)-datetime(1999,2,18,9,39,0)\n",
    "b.days"
   ]
  },
  {
   "cell_type": "code",
   "execution_count": 27,
   "metadata": {},
   "outputs": [
    {
     "name": "stdout",
     "output_type": "stream",
     "text": [
      "51660\n",
      "7623\n",
      "658678860.0\n"
     ]
    },
    {
     "data": {
      "text/plain": [
       "datetime.timedelta(days=7623, seconds=51660)"
      ]
     },
     "execution_count": 27,
     "metadata": {},
     "output_type": "execute_result"
    }
   ],
   "source": [
    "b=datetime(2020,1,3)-datetime(1999,2,18,9,39,0)\n",
    "print(b.seconds)\n",
    "print(b.days)\n",
    "print(b.total_seconds())\n",
    "b"
   ]
  },
  {
   "cell_type": "code",
   "execution_count": 22,
   "metadata": {},
   "outputs": [
    {
     "data": {
      "text/plain": [
       "datetime.datetime(2020, 1, 3, 0, 0)"
      ]
     },
     "execution_count": 22,
     "metadata": {},
     "output_type": "execute_result"
    }
   ],
   "source": [
    "datetime(2020,1,3)"
   ]
  },
  {
   "cell_type": "code",
   "execution_count": 28,
   "metadata": {},
   "outputs": [
    {
     "data": {
      "text/plain": [
       "datetime.datetime(2020, 7, 21, 0, 0)"
      ]
     },
     "execution_count": 28,
     "metadata": {},
     "output_type": "execute_result"
    }
   ],
   "source": [
    "datetime(2020,1,3)+timedelta(200)"
   ]
  },
  {
   "cell_type": "code",
   "execution_count": 29,
   "metadata": {},
   "outputs": [
    {
     "data": {
      "text/plain": [
       "datetime.datetime(2019, 9, 25, 0, 0)"
      ]
     },
     "execution_count": 29,
     "metadata": {},
     "output_type": "execute_result"
    }
   ],
   "source": [
    "datetime(2020,1,3)-timedelta(100)"
   ]
  },
  {
   "cell_type": "code",
   "execution_count": 41,
   "metadata": {},
   "outputs": [
    {
     "data": {
      "text/plain": [
       "datetime.datetime(2020, 1, 3, 0, 0)"
      ]
     },
     "execution_count": 41,
     "metadata": {},
     "output_type": "execute_result"
    }
   ],
   "source": [
    "t=\"3 January 2020\"\n",
    "datetime.strptime(t,\"%d %B %Y\")"
   ]
  },
  {
   "cell_type": "code",
   "execution_count": 46,
   "metadata": {},
   "outputs": [
    {
     "data": {
      "text/plain": [
       "'03 Jan 2020'"
      ]
     },
     "execution_count": 46,
     "metadata": {},
     "output_type": "execute_result"
    }
   ],
   "source": [
    "a=datetime.today()\n",
    "a.strftime(\"%d %b %Y\")"
   ]
  },
  {
   "cell_type": "code",
   "execution_count": 47,
   "metadata": {},
   "outputs": [
    {
     "data": {
      "text/plain": [
       "['03 Feb 2020', '04 Jan 2019', '10 Feb 2018']"
      ]
     },
     "execution_count": 47,
     "metadata": {},
     "output_type": "execute_result"
    }
   ],
   "source": [
    "a=[datetime(2020,2,3),datetime(2019,1,4),datetime(2018,2,10)]\n",
    "b=[i.strftime(\"%d %b %Y\") for i in a ]\n",
    "b"
   ]
  },
  {
   "cell_type": "code",
   "execution_count": 48,
   "metadata": {},
   "outputs": [
    {
     "data": {
      "text/plain": [
       "['03 February 2020', '04 January 2019', '10 February 2018']"
      ]
     },
     "execution_count": 48,
     "metadata": {},
     "output_type": "execute_result"
    }
   ],
   "source": [
    "a=[datetime(2020,2,3),datetime(2019,1,4),datetime(2018,2,10)]\n",
    "b=[i.strftime(\"%d %B %Y\") for i in a ]\n",
    "b"
   ]
  },
  {
   "cell_type": "code",
   "execution_count": 49,
   "metadata": {},
   "outputs": [
    {
     "data": {
      "text/plain": [
       "['03 Feb 20', '04 Jan 19', '10 Feb 18']"
      ]
     },
     "execution_count": 49,
     "metadata": {},
     "output_type": "execute_result"
    }
   ],
   "source": [
    "a=[datetime(2020,2,3),datetime(2019,1,4),datetime(2018,2,10)]\n",
    "b=[i.strftime(\"%d %b %y\") for i in a ]\n",
    "b"
   ]
  },
  {
   "cell_type": "code",
   "execution_count": 53,
   "metadata": {},
   "outputs": [],
   "source": [
    "import pandas as pd\n",
    "import numpy as np"
   ]
  },
  {
   "cell_type": "code",
   "execution_count": 54,
   "metadata": {},
   "outputs": [],
   "source": [
    "dates=[datetime(2020,2,3),datetime(2019,1,4),datetime(2018,2,10),datetime(2017,3,11),datetime(2016,5,1)]\n"
   ]
  },
  {
   "cell_type": "code",
   "execution_count": 58,
   "metadata": {},
   "outputs": [
    {
     "data": {
      "text/plain": [
       "2020-02-03    0.773512\n",
       "2019-01-04    0.925084\n",
       "2018-02-10    0.773527\n",
       "2017-03-11    0.713895\n",
       "2016-05-01    0.133059\n",
       "dtype: float64"
      ]
     },
     "execution_count": 58,
     "metadata": {},
     "output_type": "execute_result"
    }
   ],
   "source": [
    "a=pd.Series(np.random.rand(5),index=dates)\n",
    "a"
   ]
  },
  {
   "cell_type": "code",
   "execution_count": 60,
   "metadata": {},
   "outputs": [
    {
     "data": {
      "text/plain": [
       "DatetimeIndex(['2020-02-03', '2019-01-04', '2018-02-10', '2017-03-11',\n",
       "               '2016-05-01'],\n",
       "              dtype='datetime64[ns]', freq=None)"
      ]
     },
     "execution_count": 60,
     "metadata": {},
     "output_type": "execute_result"
    }
   ],
   "source": [
    "a=pd.Series(np.random.rand(5),index=dates)\n",
    "a.index"
   ]
  },
  {
   "cell_type": "code",
   "execution_count": 61,
   "metadata": {},
   "outputs": [
    {
     "data": {
      "text/plain": [
       "array([0.68926394, 0.85440792, 0.611555  , 0.47312745, 0.35222078])"
      ]
     },
     "execution_count": 61,
     "metadata": {},
     "output_type": "execute_result"
    }
   ],
   "source": [
    "a.values"
   ]
  },
  {
   "cell_type": "code",
   "execution_count": 62,
   "metadata": {},
   "outputs": [
    {
     "data": {
      "text/plain": [
       "2016-05-01    0.352221\n",
       "dtype: float64"
      ]
     },
     "execution_count": 62,
     "metadata": {},
     "output_type": "execute_result"
    }
   ],
   "source": [
    "a[\"2016-05\"]"
   ]
  },
  {
   "cell_type": "code",
   "execution_count": 63,
   "metadata": {},
   "outputs": [
    {
     "data": {
      "text/plain": [
       "2016-05-01    0.352221\n",
       "dtype: float64"
      ]
     },
     "execution_count": 63,
     "metadata": {},
     "output_type": "execute_result"
    }
   ],
   "source": [
    "a[\"2016\"]"
   ]
  },
  {
   "cell_type": "code",
   "execution_count": 64,
   "metadata": {},
   "outputs": [
    {
     "data": {
      "text/plain": [
       "Timestamp('2019-01-04 00:00:00')"
      ]
     },
     "execution_count": 64,
     "metadata": {},
     "output_type": "execute_result"
    }
   ],
   "source": [
    "a.index[1]"
   ]
  },
  {
   "cell_type": "code",
   "execution_count": 66,
   "metadata": {},
   "outputs": [
    {
     "data": {
      "text/plain": [
       "1578027224.514807"
      ]
     },
     "execution_count": 66,
     "metadata": {},
     "output_type": "execute_result"
    }
   ],
   "source": [
    "n=datetime.now()\n",
    "timestamp=n.timestamp()\n",
    "timestamp"
   ]
  },
  {
   "cell_type": "code",
   "execution_count": 69,
   "metadata": {},
   "outputs": [],
   "source": [
    "a=pd.Series(np.random.rand(1000),index=pd.date_range(start=\"18/2/1999\",periods=1000))"
   ]
  },
  {
   "cell_type": "code",
   "execution_count": 71,
   "metadata": {},
   "outputs": [
    {
     "data": {
      "text/plain": [
       "2000-01-01    0.674862\n",
       "2000-01-02    0.316743\n",
       "2000-01-03    0.853286\n",
       "2000-01-04    0.935923\n",
       "2000-01-05    0.044914\n",
       "2000-01-06    0.299870\n",
       "2000-01-07    0.328931\n",
       "2000-01-08    0.283212\n",
       "2000-01-09    0.203007\n",
       "2000-01-10    0.553394\n",
       "2000-01-11    0.287395\n",
       "2000-01-12    0.044397\n",
       "2000-01-13    0.847432\n",
       "2000-01-14    0.943370\n",
       "2000-01-15    0.582809\n",
       "2000-01-16    0.842807\n",
       "2000-01-17    0.894580\n",
       "2000-01-18    0.460090\n",
       "2000-01-19    0.078908\n",
       "2000-01-20    0.601152\n",
       "2000-01-21    0.794626\n",
       "2000-01-22    0.921152\n",
       "2000-01-23    0.746864\n",
       "2000-01-24    0.595060\n",
       "2000-01-25    0.819309\n",
       "2000-01-26    0.585494\n",
       "2000-01-27    0.890185\n",
       "2000-01-28    0.609007\n",
       "2000-01-29    0.393491\n",
       "2000-01-30    0.975309\n",
       "                ...   \n",
       "2000-12-02    0.082556\n",
       "2000-12-03    0.906266\n",
       "2000-12-04    0.593052\n",
       "2000-12-05    0.064618\n",
       "2000-12-06    0.793222\n",
       "2000-12-07    0.991512\n",
       "2000-12-08    0.161708\n",
       "2000-12-09    0.337755\n",
       "2000-12-10    0.345259\n",
       "2000-12-11    0.437407\n",
       "2000-12-12    0.247804\n",
       "2000-12-13    0.303758\n",
       "2000-12-14    0.587321\n",
       "2000-12-15    0.356270\n",
       "2000-12-16    0.270569\n",
       "2000-12-17    0.207118\n",
       "2000-12-18    0.388301\n",
       "2000-12-19    0.874458\n",
       "2000-12-20    0.041376\n",
       "2000-12-21    0.147841\n",
       "2000-12-22    0.868338\n",
       "2000-12-23    0.892774\n",
       "2000-12-24    0.800934\n",
       "2000-12-25    0.715525\n",
       "2000-12-26    0.351487\n",
       "2000-12-27    0.349928\n",
       "2000-12-28    0.501372\n",
       "2000-12-29    0.300295\n",
       "2000-12-30    0.316820\n",
       "2000-12-31    0.369061\n",
       "Freq: D, Length: 366, dtype: float64"
      ]
     },
     "execution_count": 71,
     "metadata": {},
     "output_type": "execute_result"
    }
   ],
   "source": [
    "a[\"2000\"]"
   ]
  },
  {
   "cell_type": "code",
   "execution_count": 74,
   "metadata": {},
   "outputs": [
    {
     "data": {
      "text/plain": [
       "2000-01-01    0.674862\n",
       "2000-01-02    0.316743\n",
       "2000-01-03    0.853286\n",
       "2000-01-04    0.935923\n",
       "2000-01-05    0.044914\n",
       "2000-01-06    0.299870\n",
       "2000-01-07    0.328931\n",
       "2000-01-08    0.283212\n",
       "2000-01-09    0.203007\n",
       "2000-01-10    0.553394\n",
       "2000-01-11    0.287395\n",
       "2000-01-12    0.044397\n",
       "2000-01-13    0.847432\n",
       "2000-01-14    0.943370\n",
       "2000-01-15    0.582809\n",
       "2000-01-16    0.842807\n",
       "2000-01-17    0.894580\n",
       "2000-01-18    0.460090\n",
       "2000-01-19    0.078908\n",
       "2000-01-20    0.601152\n",
       "2000-01-21    0.794626\n",
       "2000-01-22    0.921152\n",
       "2000-01-23    0.746864\n",
       "2000-01-24    0.595060\n",
       "2000-01-25    0.819309\n",
       "2000-01-26    0.585494\n",
       "2000-01-27    0.890185\n",
       "2000-01-28    0.609007\n",
       "2000-01-29    0.393491\n",
       "2000-01-30    0.975309\n",
       "Freq: D, dtype: float64"
      ]
     },
     "execution_count": 74,
     "metadata": {},
     "output_type": "execute_result"
    }
   ],
   "source": [
    "a[\"2000-01-01\":\"2000-01-30\"]"
   ]
  },
  {
   "cell_type": "code",
   "execution_count": 76,
   "metadata": {},
   "outputs": [
    {
     "data": {
      "text/plain": [
       "DatetimeIndex(['2020-03-31', '2020-04-30', '2020-05-29', '2020-06-30',\n",
       "               '2020-07-31', '2020-08-31', '2020-09-30', '2020-10-30',\n",
       "               '2020-11-30', '2020-12-31', '2021-01-29'],\n",
       "              dtype='datetime64[ns]', freq='BM')"
      ]
     },
     "execution_count": 76,
     "metadata": {},
     "output_type": "execute_result"
    }
   ],
   "source": [
    "pd.date_range(\"03/01/2020\",\"02/01/2021\",freq=\"BM\")"
   ]
  },
  {
   "cell_type": "code",
   "execution_count": 79,
   "metadata": {},
   "outputs": [
    {
     "data": {
      "text/plain": [
       "DatetimeIndex(['2020-03-21', '2020-04-18', '2020-05-16', '2020-06-20',\n",
       "               '2020-07-18', '2020-08-15', '2020-09-19', '2020-10-17',\n",
       "               '2020-11-21', '2020-12-19', '2021-01-16'],\n",
       "              dtype='datetime64[ns]', freq='WOM-3SAT')"
      ]
     },
     "execution_count": 79,
     "metadata": {},
     "output_type": "execute_result"
    }
   ],
   "source": [
    "pd.date_range(\"03/01/2020\",\"02/01/2021\",freq=\"WOM-3Sat\")"
   ]
  },
  {
   "cell_type": "code",
   "execution_count": 80,
   "metadata": {},
   "outputs": [
    {
     "data": {
      "text/plain": [
       "DatetimeIndex(['2020-03-15', '2020-03-31', '2020-04-15', '2020-04-30',\n",
       "               '2020-05-15', '2020-05-31', '2020-06-15', '2020-06-30',\n",
       "               '2020-07-15', '2020-07-31', '2020-08-15', '2020-08-31',\n",
       "               '2020-09-15', '2020-09-30', '2020-10-15', '2020-10-31',\n",
       "               '2020-11-15', '2020-11-30', '2020-12-15', '2020-12-31',\n",
       "               '2021-01-15', '2021-01-31'],\n",
       "              dtype='datetime64[ns]', freq='SM-15')"
      ]
     },
     "execution_count": 80,
     "metadata": {},
     "output_type": "execute_result"
    }
   ],
   "source": [
    "pd.date_range(\"03/01/2020\",\"02/01/2021\",freq=\"SM\")   #half days"
   ]
  },
  {
   "cell_type": "code",
   "execution_count": 82,
   "metadata": {},
   "outputs": [
    {
     "data": {
      "text/plain": [
       "DatetimeIndex(['2020-03-31', '2020-06-30', '2020-09-30', '2020-12-31'], dtype='datetime64[ns]', freq='Q-DEC')"
      ]
     },
     "execution_count": 82,
     "metadata": {},
     "output_type": "execute_result"
    }
   ],
   "source": [
    "pd.date_range(\"03/01/2020\",\"02/01/2021\",freq=\"Q\")"
   ]
  },
  {
   "cell_type": "code",
   "execution_count": 84,
   "metadata": {},
   "outputs": [
    {
     "data": {
      "text/plain": [
       "DatetimeIndex(['2020-12-31'], dtype='datetime64[ns]', freq='A-DEC')"
      ]
     },
     "execution_count": 84,
     "metadata": {},
     "output_type": "execute_result"
    }
   ],
   "source": [
    "pd.date_range(\"03/01/2020\",\"02/01/2021\",freq=\"A\")    "
   ]
  },
  {
   "cell_type": "code",
   "execution_count": 85,
   "metadata": {},
   "outputs": [
    {
     "data": {
      "text/plain": [
       "DatetimeIndex(['2020-03-31', '2020-04-30', '2020-05-29', '2020-06-30',\n",
       "               '2020-07-31', '2020-08-31', '2020-09-30', '2020-10-30',\n",
       "               '2020-11-30', '2020-12-31', '2021-01-29'],\n",
       "              dtype='datetime64[ns]', freq='BM')"
      ]
     },
     "execution_count": 85,
     "metadata": {},
     "output_type": "execute_result"
    }
   ],
   "source": [
    "pd.date_range(\"03/01/2020\",\"02/01/2021\",freq=\"BM\")"
   ]
  },
  {
   "cell_type": "code",
   "execution_count": 86,
   "metadata": {},
   "outputs": [
    {
     "ename": "ValueError",
     "evalue": "Invalid frequency: RE",
     "output_type": "error",
     "traceback": [
      "\u001b[1;31m---------------------------------------------------------------------------\u001b[0m",
      "\u001b[1;31mTypeError\u001b[0m                                 Traceback (most recent call last)",
      "\u001b[1;32mC:\\ProgramData\\Anaconda3\\lib\\site-packages\\pandas\\tseries\\frequencies.py\u001b[0m in \u001b[0;36mget_offset\u001b[1;34m(name)\u001b[0m\n\u001b[0;32m    189\u001b[0m             \u001b[1;31m# many '-')\u001b[0m\u001b[1;33m\u001b[0m\u001b[1;33m\u001b[0m\u001b[1;33m\u001b[0m\u001b[0m\n\u001b[1;32m--> 190\u001b[1;33m             \u001b[0moffset\u001b[0m \u001b[1;33m=\u001b[0m \u001b[0mklass\u001b[0m\u001b[1;33m.\u001b[0m\u001b[0m_from_name\u001b[0m\u001b[1;33m(\u001b[0m\u001b[1;33m*\u001b[0m\u001b[0msplit\u001b[0m\u001b[1;33m[\u001b[0m\u001b[1;36m1\u001b[0m\u001b[1;33m:\u001b[0m\u001b[1;33m]\u001b[0m\u001b[1;33m)\u001b[0m\u001b[1;33m\u001b[0m\u001b[1;33m\u001b[0m\u001b[0m\n\u001b[0m\u001b[0;32m    191\u001b[0m         \u001b[1;32mexcept\u001b[0m \u001b[1;33m(\u001b[0m\u001b[0mValueError\u001b[0m\u001b[1;33m,\u001b[0m \u001b[0mTypeError\u001b[0m\u001b[1;33m,\u001b[0m \u001b[0mKeyError\u001b[0m\u001b[1;33m)\u001b[0m\u001b[1;33m:\u001b[0m\u001b[1;33m\u001b[0m\u001b[1;33m\u001b[0m\u001b[0m\n",
      "\u001b[1;32mC:\\ProgramData\\Anaconda3\\lib\\site-packages\\pandas\\tseries\\offsets.py\u001b[0m in \u001b[0;36m_from_name\u001b[1;34m(cls, *args)\u001b[0m\n\u001b[0;32m   1981\u001b[0m     \u001b[1;32mdef\u001b[0m \u001b[0m_from_name\u001b[0m\u001b[1;33m(\u001b[0m\u001b[0mcls\u001b[0m\u001b[1;33m,\u001b[0m \u001b[1;33m*\u001b[0m\u001b[0margs\u001b[0m\u001b[1;33m)\u001b[0m\u001b[1;33m:\u001b[0m\u001b[1;33m\u001b[0m\u001b[1;33m\u001b[0m\u001b[0m\n\u001b[1;32m-> 1982\u001b[1;33m         \u001b[1;32mreturn\u001b[0m \u001b[0mcls\u001b[0m\u001b[1;33m(\u001b[0m\u001b[1;33m**\u001b[0m\u001b[0mcls\u001b[0m\u001b[1;33m.\u001b[0m\u001b[0m_parse_suffix\u001b[0m\u001b[1;33m(\u001b[0m\u001b[1;33m*\u001b[0m\u001b[0margs\u001b[0m\u001b[1;33m)\u001b[0m\u001b[1;33m)\u001b[0m\u001b[1;33m\u001b[0m\u001b[1;33m\u001b[0m\u001b[0m\n\u001b[0m\u001b[0;32m   1983\u001b[0m \u001b[1;33m\u001b[0m\u001b[0m\n",
      "\u001b[1;31mTypeError\u001b[0m: _parse_suffix() missing 3 required positional arguments: 'varion_code', 'startingMonth_code', and 'weekday_code'",
      "\nDuring handling of the above exception, another exception occurred:\n",
      "\u001b[1;31mValueError\u001b[0m                                Traceback (most recent call last)",
      "\u001b[1;32mC:\\ProgramData\\Anaconda3\\lib\\site-packages\\pandas\\tseries\\frequencies.py\u001b[0m in \u001b[0;36mto_offset\u001b[1;34m(freq)\u001b[0m\n\u001b[0;32m    153\u001b[0m                 \u001b[0mstride\u001b[0m \u001b[1;33m=\u001b[0m \u001b[0mint\u001b[0m\u001b[1;33m(\u001b[0m\u001b[0mstride\u001b[0m\u001b[1;33m)\u001b[0m\u001b[1;33m\u001b[0m\u001b[1;33m\u001b[0m\u001b[0m\n\u001b[1;32m--> 154\u001b[1;33m                 \u001b[0moffset\u001b[0m \u001b[1;33m=\u001b[0m \u001b[0mget_offset\u001b[0m\u001b[1;33m(\u001b[0m\u001b[0mname\u001b[0m\u001b[1;33m)\u001b[0m\u001b[1;33m\u001b[0m\u001b[1;33m\u001b[0m\u001b[0m\n\u001b[0m\u001b[0;32m    155\u001b[0m                 \u001b[0moffset\u001b[0m \u001b[1;33m=\u001b[0m \u001b[0moffset\u001b[0m \u001b[1;33m*\u001b[0m \u001b[0mint\u001b[0m\u001b[1;33m(\u001b[0m\u001b[0mnp\u001b[0m\u001b[1;33m.\u001b[0m\u001b[0mfabs\u001b[0m\u001b[1;33m(\u001b[0m\u001b[0mstride\u001b[0m\u001b[1;33m)\u001b[0m \u001b[1;33m*\u001b[0m \u001b[0mstride_sign\u001b[0m\u001b[1;33m)\u001b[0m\u001b[1;33m\u001b[0m\u001b[1;33m\u001b[0m\u001b[0m\n",
      "\u001b[1;32mC:\\ProgramData\\Anaconda3\\lib\\site-packages\\pandas\\tseries\\frequencies.py\u001b[0m in \u001b[0;36mget_offset\u001b[1;34m(name)\u001b[0m\n\u001b[0;32m    192\u001b[0m             \u001b[1;31m# bad prefix or suffix\u001b[0m\u001b[1;33m\u001b[0m\u001b[1;33m\u001b[0m\u001b[1;33m\u001b[0m\u001b[0m\n\u001b[1;32m--> 193\u001b[1;33m             \u001b[1;32mraise\u001b[0m \u001b[0mValueError\u001b[0m\u001b[1;33m(\u001b[0m\u001b[0mlibfreqs\u001b[0m\u001b[1;33m.\u001b[0m\u001b[0mINVALID_FREQ_ERR_MSG\u001b[0m\u001b[1;33m.\u001b[0m\u001b[0mformat\u001b[0m\u001b[1;33m(\u001b[0m\u001b[0mname\u001b[0m\u001b[1;33m)\u001b[0m\u001b[1;33m)\u001b[0m\u001b[1;33m\u001b[0m\u001b[1;33m\u001b[0m\u001b[0m\n\u001b[0m\u001b[0;32m    194\u001b[0m         \u001b[1;31m# cache\u001b[0m\u001b[1;33m\u001b[0m\u001b[1;33m\u001b[0m\u001b[1;33m\u001b[0m\u001b[0m\n",
      "\u001b[1;31mValueError\u001b[0m: Invalid frequency: RE",
      "\nDuring handling of the above exception, another exception occurred:\n",
      "\u001b[1;31mValueError\u001b[0m                                Traceback (most recent call last)",
      "\u001b[1;32m<ipython-input-86-0ed254082273>\u001b[0m in \u001b[0;36m<module>\u001b[1;34m\u001b[0m\n\u001b[1;32m----> 1\u001b[1;33m \u001b[0mpd\u001b[0m\u001b[1;33m.\u001b[0m\u001b[0mdate_range\u001b[0m\u001b[1;33m(\u001b[0m\u001b[1;34m\"03/01/2020\"\u001b[0m\u001b[1;33m,\u001b[0m\u001b[1;34m\"02/01/2021\"\u001b[0m\u001b[1;33m,\u001b[0m\u001b[0mfreq\u001b[0m\u001b[1;33m=\u001b[0m\u001b[1;34m\"RE\"\u001b[0m\u001b[1;33m)\u001b[0m\u001b[1;33m\u001b[0m\u001b[1;33m\u001b[0m\u001b[0m\n\u001b[0m",
      "\u001b[1;32mC:\\ProgramData\\Anaconda3\\lib\\site-packages\\pandas\\core\\indexes\\datetimes.py\u001b[0m in \u001b[0;36mdate_range\u001b[1;34m(start, end, periods, freq, tz, normalize, name, closed, **kwargs)\u001b[0m\n\u001b[0;32m   1522\u001b[0m         \u001b[0mstart\u001b[0m\u001b[1;33m=\u001b[0m\u001b[0mstart\u001b[0m\u001b[1;33m,\u001b[0m \u001b[0mend\u001b[0m\u001b[1;33m=\u001b[0m\u001b[0mend\u001b[0m\u001b[1;33m,\u001b[0m \u001b[0mperiods\u001b[0m\u001b[1;33m=\u001b[0m\u001b[0mperiods\u001b[0m\u001b[1;33m,\u001b[0m\u001b[1;33m\u001b[0m\u001b[1;33m\u001b[0m\u001b[0m\n\u001b[0;32m   1523\u001b[0m         \u001b[0mfreq\u001b[0m\u001b[1;33m=\u001b[0m\u001b[0mfreq\u001b[0m\u001b[1;33m,\u001b[0m \u001b[0mtz\u001b[0m\u001b[1;33m=\u001b[0m\u001b[0mtz\u001b[0m\u001b[1;33m,\u001b[0m \u001b[0mnormalize\u001b[0m\u001b[1;33m=\u001b[0m\u001b[0mnormalize\u001b[0m\u001b[1;33m,\u001b[0m\u001b[1;33m\u001b[0m\u001b[1;33m\u001b[0m\u001b[0m\n\u001b[1;32m-> 1524\u001b[1;33m         closed=closed, **kwargs)\n\u001b[0m\u001b[0;32m   1525\u001b[0m     return DatetimeIndex._simple_new(\n\u001b[0;32m   1526\u001b[0m         dtarr, tz=dtarr.tz, freq=dtarr.freq, name=name)\n",
      "\u001b[1;32mC:\\ProgramData\\Anaconda3\\lib\\site-packages\\pandas\\core\\arrays\\datetimes.py\u001b[0m in \u001b[0;36m_generate_range\u001b[1;34m(cls, start, end, periods, freq, tz, normalize, ambiguous, nonexistent, closed)\u001b[0m\n\u001b[0;32m    406\u001b[0m             raise ValueError('Of the four parameters: start, end, periods, '\n\u001b[0;32m    407\u001b[0m                              'and freq, exactly three must be specified')\n\u001b[1;32m--> 408\u001b[1;33m         \u001b[0mfreq\u001b[0m \u001b[1;33m=\u001b[0m \u001b[0mto_offset\u001b[0m\u001b[1;33m(\u001b[0m\u001b[0mfreq\u001b[0m\u001b[1;33m)\u001b[0m\u001b[1;33m\u001b[0m\u001b[1;33m\u001b[0m\u001b[0m\n\u001b[0m\u001b[0;32m    409\u001b[0m \u001b[1;33m\u001b[0m\u001b[0m\n\u001b[0;32m    410\u001b[0m         \u001b[1;32mif\u001b[0m \u001b[0mstart\u001b[0m \u001b[1;32mis\u001b[0m \u001b[1;32mnot\u001b[0m \u001b[1;32mNone\u001b[0m\u001b[1;33m:\u001b[0m\u001b[1;33m\u001b[0m\u001b[1;33m\u001b[0m\u001b[0m\n",
      "\u001b[1;32mC:\\ProgramData\\Anaconda3\\lib\\site-packages\\pandas\\tseries\\frequencies.py\u001b[0m in \u001b[0;36mto_offset\u001b[1;34m(freq)\u001b[0m\n\u001b[0;32m    159\u001b[0m                     \u001b[0mdelta\u001b[0m \u001b[1;33m=\u001b[0m \u001b[0mdelta\u001b[0m \u001b[1;33m+\u001b[0m \u001b[0moffset\u001b[0m\u001b[1;33m\u001b[0m\u001b[1;33m\u001b[0m\u001b[0m\n\u001b[0;32m    160\u001b[0m         \u001b[1;32mexcept\u001b[0m \u001b[0mException\u001b[0m\u001b[1;33m:\u001b[0m\u001b[1;33m\u001b[0m\u001b[1;33m\u001b[0m\u001b[0m\n\u001b[1;32m--> 161\u001b[1;33m             \u001b[1;32mraise\u001b[0m \u001b[0mValueError\u001b[0m\u001b[1;33m(\u001b[0m\u001b[0mlibfreqs\u001b[0m\u001b[1;33m.\u001b[0m\u001b[0mINVALID_FREQ_ERR_MSG\u001b[0m\u001b[1;33m.\u001b[0m\u001b[0mformat\u001b[0m\u001b[1;33m(\u001b[0m\u001b[0mfreq\u001b[0m\u001b[1;33m)\u001b[0m\u001b[1;33m)\u001b[0m\u001b[1;33m\u001b[0m\u001b[1;33m\u001b[0m\u001b[0m\n\u001b[0m\u001b[0;32m    162\u001b[0m \u001b[1;33m\u001b[0m\u001b[0m\n\u001b[0;32m    163\u001b[0m     \u001b[1;32mif\u001b[0m \u001b[0mdelta\u001b[0m \u001b[1;32mis\u001b[0m \u001b[1;32mNone\u001b[0m\u001b[1;33m:\u001b[0m\u001b[1;33m\u001b[0m\u001b[1;33m\u001b[0m\u001b[0m\n",
      "\u001b[1;31mValueError\u001b[0m: Invalid frequency: RE"
     ]
    }
   ],
   "source": [
    "pd.date_range(\"03/01/2020\",\"02/01/2021\",freq=\"RE\")"
   ]
  },
  {
   "cell_type": "code",
   "execution_count": 88,
   "metadata": {},
   "outputs": [
    {
     "data": {
      "text/plain": [
       "DatetimeIndex(['2019-02-03', '2019-02-04', '2019-02-05', '2019-02-06',\n",
       "               '2019-02-07', '2019-02-08', '2019-02-09', '2019-02-10',\n",
       "               '2019-02-11', '2019-02-12', '2019-02-13', '2019-02-14',\n",
       "               '2019-02-15', '2019-02-16', '2019-02-17', '2019-02-18',\n",
       "               '2019-02-19', '2019-02-20', '2019-02-21', '2019-02-22',\n",
       "               '2019-02-23', '2019-02-24', '2019-02-25', '2019-02-26',\n",
       "               '2019-02-27', '2019-02-28', '2019-03-01', '2019-03-02',\n",
       "               '2019-03-03', '2019-03-04', '2019-03-05', '2019-03-06',\n",
       "               '2019-03-07', '2019-03-08', '2019-03-09', '2019-03-10',\n",
       "               '2019-03-11', '2019-03-12', '2019-03-13', '2019-03-14',\n",
       "               '2019-03-15', '2019-03-16', '2019-03-17', '2019-03-18',\n",
       "               '2019-03-19', '2019-03-20', '2019-03-21', '2019-03-22',\n",
       "               '2019-03-23', '2019-03-24', '2019-03-25', '2019-03-26',\n",
       "               '2019-03-27', '2019-03-28', '2019-03-29', '2019-03-30',\n",
       "               '2019-03-31', '2019-04-01', '2019-04-02', '2019-04-03',\n",
       "               '2019-04-04', '2019-04-05', '2019-04-06', '2019-04-07',\n",
       "               '2019-04-08', '2019-04-09', '2019-04-10', '2019-04-11',\n",
       "               '2019-04-12', '2019-04-13', '2019-04-14', '2019-04-15',\n",
       "               '2019-04-16', '2019-04-17', '2019-04-18', '2019-04-19',\n",
       "               '2019-04-20', '2019-04-21', '2019-04-22', '2019-04-23',\n",
       "               '2019-04-24', '2019-04-25', '2019-04-26', '2019-04-27',\n",
       "               '2019-04-28', '2019-04-29', '2019-04-30', '2019-05-01',\n",
       "               '2019-05-02', '2019-05-03', '2019-05-04', '2019-05-05',\n",
       "               '2019-05-06', '2019-05-07', '2019-05-08', '2019-05-09',\n",
       "               '2019-05-10', '2019-05-11', '2019-05-12', '2019-05-13'],\n",
       "              dtype='datetime64[ns]', freq='D')"
      ]
     },
     "execution_count": 88,
     "metadata": {},
     "output_type": "execute_result"
    }
   ],
   "source": [
    "dates=pd.date_range(start=\"2/3/2019\",periods=100)\n",
    "dates"
   ]
  },
  {
   "cell_type": "code",
   "execution_count": 90,
   "metadata": {},
   "outputs": [],
   "source": [
    "s=pd.DataFrame(np.random.rand(100,4),index=dates,columns=[\"India\",\"china\",\"USA\",\"Australia\"])"
   ]
  },
  {
   "cell_type": "code",
   "execution_count": 91,
   "metadata": {},
   "outputs": [
    {
     "data": {
      "text/html": [
       "<div>\n",
       "<style scoped>\n",
       "    .dataframe tbody tr th:only-of-type {\n",
       "        vertical-align: middle;\n",
       "    }\n",
       "\n",
       "    .dataframe tbody tr th {\n",
       "        vertical-align: top;\n",
       "    }\n",
       "\n",
       "    .dataframe thead th {\n",
       "        text-align: right;\n",
       "    }\n",
       "</style>\n",
       "<table border=\"1\" class=\"dataframe\">\n",
       "  <thead>\n",
       "    <tr style=\"text-align: right;\">\n",
       "      <th></th>\n",
       "      <th>India</th>\n",
       "      <th>china</th>\n",
       "      <th>USA</th>\n",
       "      <th>Australia</th>\n",
       "    </tr>\n",
       "  </thead>\n",
       "  <tbody>\n",
       "    <tr>\n",
       "      <th>2019-02-03</th>\n",
       "      <td>0.561687</td>\n",
       "      <td>0.026644</td>\n",
       "      <td>0.059057</td>\n",
       "      <td>0.021650</td>\n",
       "    </tr>\n",
       "    <tr>\n",
       "      <th>2019-02-04</th>\n",
       "      <td>0.171599</td>\n",
       "      <td>0.968230</td>\n",
       "      <td>0.755531</td>\n",
       "      <td>0.289665</td>\n",
       "    </tr>\n",
       "    <tr>\n",
       "      <th>2019-02-05</th>\n",
       "      <td>0.210644</td>\n",
       "      <td>0.570662</td>\n",
       "      <td>0.101439</td>\n",
       "      <td>0.909769</td>\n",
       "    </tr>\n",
       "    <tr>\n",
       "      <th>2019-02-06</th>\n",
       "      <td>0.431821</td>\n",
       "      <td>0.903141</td>\n",
       "      <td>0.573115</td>\n",
       "      <td>0.584537</td>\n",
       "    </tr>\n",
       "    <tr>\n",
       "      <th>2019-02-07</th>\n",
       "      <td>0.278189</td>\n",
       "      <td>0.343479</td>\n",
       "      <td>0.936138</td>\n",
       "      <td>0.639339</td>\n",
       "    </tr>\n",
       "    <tr>\n",
       "      <th>2019-02-08</th>\n",
       "      <td>0.484305</td>\n",
       "      <td>0.304736</td>\n",
       "      <td>0.608091</td>\n",
       "      <td>0.883428</td>\n",
       "    </tr>\n",
       "    <tr>\n",
       "      <th>2019-02-09</th>\n",
       "      <td>0.150776</td>\n",
       "      <td>0.955187</td>\n",
       "      <td>0.185564</td>\n",
       "      <td>0.624672</td>\n",
       "    </tr>\n",
       "    <tr>\n",
       "      <th>2019-02-10</th>\n",
       "      <td>0.254819</td>\n",
       "      <td>0.850273</td>\n",
       "      <td>0.120472</td>\n",
       "      <td>0.538940</td>\n",
       "    </tr>\n",
       "    <tr>\n",
       "      <th>2019-02-11</th>\n",
       "      <td>0.855378</td>\n",
       "      <td>0.430699</td>\n",
       "      <td>0.347006</td>\n",
       "      <td>0.905599</td>\n",
       "    </tr>\n",
       "    <tr>\n",
       "      <th>2019-02-12</th>\n",
       "      <td>0.638818</td>\n",
       "      <td>0.319534</td>\n",
       "      <td>0.825962</td>\n",
       "      <td>0.246578</td>\n",
       "    </tr>\n",
       "    <tr>\n",
       "      <th>2019-02-13</th>\n",
       "      <td>0.274473</td>\n",
       "      <td>0.131893</td>\n",
       "      <td>0.825836</td>\n",
       "      <td>0.163856</td>\n",
       "    </tr>\n",
       "    <tr>\n",
       "      <th>2019-02-14</th>\n",
       "      <td>0.616612</td>\n",
       "      <td>0.945879</td>\n",
       "      <td>0.513415</td>\n",
       "      <td>0.266121</td>\n",
       "    </tr>\n",
       "    <tr>\n",
       "      <th>2019-02-15</th>\n",
       "      <td>0.794158</td>\n",
       "      <td>0.212578</td>\n",
       "      <td>0.853662</td>\n",
       "      <td>0.164347</td>\n",
       "    </tr>\n",
       "    <tr>\n",
       "      <th>2019-02-16</th>\n",
       "      <td>0.880385</td>\n",
       "      <td>0.712394</td>\n",
       "      <td>0.036818</td>\n",
       "      <td>0.970941</td>\n",
       "    </tr>\n",
       "    <tr>\n",
       "      <th>2019-02-17</th>\n",
       "      <td>0.963146</td>\n",
       "      <td>0.685298</td>\n",
       "      <td>0.607715</td>\n",
       "      <td>0.088017</td>\n",
       "    </tr>\n",
       "    <tr>\n",
       "      <th>2019-02-18</th>\n",
       "      <td>0.713276</td>\n",
       "      <td>0.546849</td>\n",
       "      <td>0.791204</td>\n",
       "      <td>0.895440</td>\n",
       "    </tr>\n",
       "    <tr>\n",
       "      <th>2019-02-19</th>\n",
       "      <td>0.885576</td>\n",
       "      <td>0.010016</td>\n",
       "      <td>0.497354</td>\n",
       "      <td>0.953016</td>\n",
       "    </tr>\n",
       "    <tr>\n",
       "      <th>2019-02-20</th>\n",
       "      <td>0.811011</td>\n",
       "      <td>0.076418</td>\n",
       "      <td>0.667760</td>\n",
       "      <td>0.368021</td>\n",
       "    </tr>\n",
       "    <tr>\n",
       "      <th>2019-02-21</th>\n",
       "      <td>0.085537</td>\n",
       "      <td>0.586036</td>\n",
       "      <td>0.472979</td>\n",
       "      <td>0.757829</td>\n",
       "    </tr>\n",
       "    <tr>\n",
       "      <th>2019-02-22</th>\n",
       "      <td>0.189271</td>\n",
       "      <td>0.724781</td>\n",
       "      <td>0.542511</td>\n",
       "      <td>0.157971</td>\n",
       "    </tr>\n",
       "    <tr>\n",
       "      <th>2019-02-23</th>\n",
       "      <td>0.797079</td>\n",
       "      <td>0.475385</td>\n",
       "      <td>0.875746</td>\n",
       "      <td>0.216631</td>\n",
       "    </tr>\n",
       "    <tr>\n",
       "      <th>2019-02-24</th>\n",
       "      <td>0.914694</td>\n",
       "      <td>0.261866</td>\n",
       "      <td>0.592799</td>\n",
       "      <td>0.231366</td>\n",
       "    </tr>\n",
       "    <tr>\n",
       "      <th>2019-02-25</th>\n",
       "      <td>0.426500</td>\n",
       "      <td>0.711778</td>\n",
       "      <td>0.879790</td>\n",
       "      <td>0.969634</td>\n",
       "    </tr>\n",
       "    <tr>\n",
       "      <th>2019-02-26</th>\n",
       "      <td>0.517320</td>\n",
       "      <td>0.581717</td>\n",
       "      <td>0.539243</td>\n",
       "      <td>0.204905</td>\n",
       "    </tr>\n",
       "    <tr>\n",
       "      <th>2019-02-27</th>\n",
       "      <td>0.046886</td>\n",
       "      <td>0.132131</td>\n",
       "      <td>0.371027</td>\n",
       "      <td>0.076186</td>\n",
       "    </tr>\n",
       "    <tr>\n",
       "      <th>2019-02-28</th>\n",
       "      <td>0.920692</td>\n",
       "      <td>0.309538</td>\n",
       "      <td>0.404982</td>\n",
       "      <td>0.815153</td>\n",
       "    </tr>\n",
       "    <tr>\n",
       "      <th>2019-03-01</th>\n",
       "      <td>0.138878</td>\n",
       "      <td>0.563108</td>\n",
       "      <td>0.124554</td>\n",
       "      <td>0.663975</td>\n",
       "    </tr>\n",
       "    <tr>\n",
       "      <th>2019-03-02</th>\n",
       "      <td>0.516541</td>\n",
       "      <td>0.889803</td>\n",
       "      <td>0.406787</td>\n",
       "      <td>0.541693</td>\n",
       "    </tr>\n",
       "    <tr>\n",
       "      <th>2019-03-03</th>\n",
       "      <td>0.969173</td>\n",
       "      <td>0.943434</td>\n",
       "      <td>0.977019</td>\n",
       "      <td>0.477913</td>\n",
       "    </tr>\n",
       "    <tr>\n",
       "      <th>2019-03-04</th>\n",
       "      <td>0.793036</td>\n",
       "      <td>0.792232</td>\n",
       "      <td>0.461578</td>\n",
       "      <td>0.824681</td>\n",
       "    </tr>\n",
       "    <tr>\n",
       "      <th>...</th>\n",
       "      <td>...</td>\n",
       "      <td>...</td>\n",
       "      <td>...</td>\n",
       "      <td>...</td>\n",
       "    </tr>\n",
       "    <tr>\n",
       "      <th>2019-04-14</th>\n",
       "      <td>0.873556</td>\n",
       "      <td>0.322495</td>\n",
       "      <td>0.499768</td>\n",
       "      <td>0.549345</td>\n",
       "    </tr>\n",
       "    <tr>\n",
       "      <th>2019-04-15</th>\n",
       "      <td>0.290535</td>\n",
       "      <td>0.669179</td>\n",
       "      <td>0.238347</td>\n",
       "      <td>0.529159</td>\n",
       "    </tr>\n",
       "    <tr>\n",
       "      <th>2019-04-16</th>\n",
       "      <td>0.729453</td>\n",
       "      <td>0.416177</td>\n",
       "      <td>0.035771</td>\n",
       "      <td>0.070366</td>\n",
       "    </tr>\n",
       "    <tr>\n",
       "      <th>2019-04-17</th>\n",
       "      <td>0.792285</td>\n",
       "      <td>0.357755</td>\n",
       "      <td>0.281401</td>\n",
       "      <td>0.614828</td>\n",
       "    </tr>\n",
       "    <tr>\n",
       "      <th>2019-04-18</th>\n",
       "      <td>0.123199</td>\n",
       "      <td>0.639160</td>\n",
       "      <td>0.230934</td>\n",
       "      <td>0.516097</td>\n",
       "    </tr>\n",
       "    <tr>\n",
       "      <th>2019-04-19</th>\n",
       "      <td>0.503479</td>\n",
       "      <td>0.521120</td>\n",
       "      <td>0.375585</td>\n",
       "      <td>0.035343</td>\n",
       "    </tr>\n",
       "    <tr>\n",
       "      <th>2019-04-20</th>\n",
       "      <td>0.822071</td>\n",
       "      <td>0.977576</td>\n",
       "      <td>0.703625</td>\n",
       "      <td>0.518750</td>\n",
       "    </tr>\n",
       "    <tr>\n",
       "      <th>2019-04-21</th>\n",
       "      <td>0.331562</td>\n",
       "      <td>0.934081</td>\n",
       "      <td>0.216947</td>\n",
       "      <td>0.282176</td>\n",
       "    </tr>\n",
       "    <tr>\n",
       "      <th>2019-04-22</th>\n",
       "      <td>0.831867</td>\n",
       "      <td>0.590679</td>\n",
       "      <td>0.824545</td>\n",
       "      <td>0.487536</td>\n",
       "    </tr>\n",
       "    <tr>\n",
       "      <th>2019-04-23</th>\n",
       "      <td>0.964058</td>\n",
       "      <td>0.325643</td>\n",
       "      <td>0.260777</td>\n",
       "      <td>0.022131</td>\n",
       "    </tr>\n",
       "    <tr>\n",
       "      <th>2019-04-24</th>\n",
       "      <td>0.556043</td>\n",
       "      <td>0.826493</td>\n",
       "      <td>0.729029</td>\n",
       "      <td>0.618965</td>\n",
       "    </tr>\n",
       "    <tr>\n",
       "      <th>2019-04-25</th>\n",
       "      <td>0.445930</td>\n",
       "      <td>0.379233</td>\n",
       "      <td>0.524917</td>\n",
       "      <td>0.872422</td>\n",
       "    </tr>\n",
       "    <tr>\n",
       "      <th>2019-04-26</th>\n",
       "      <td>0.228563</td>\n",
       "      <td>0.396685</td>\n",
       "      <td>0.960391</td>\n",
       "      <td>0.425371</td>\n",
       "    </tr>\n",
       "    <tr>\n",
       "      <th>2019-04-27</th>\n",
       "      <td>0.733031</td>\n",
       "      <td>0.972714</td>\n",
       "      <td>0.257847</td>\n",
       "      <td>0.891153</td>\n",
       "    </tr>\n",
       "    <tr>\n",
       "      <th>2019-04-28</th>\n",
       "      <td>0.346125</td>\n",
       "      <td>0.496411</td>\n",
       "      <td>0.556203</td>\n",
       "      <td>0.283684</td>\n",
       "    </tr>\n",
       "    <tr>\n",
       "      <th>2019-04-29</th>\n",
       "      <td>0.363941</td>\n",
       "      <td>0.768957</td>\n",
       "      <td>0.368002</td>\n",
       "      <td>0.079431</td>\n",
       "    </tr>\n",
       "    <tr>\n",
       "      <th>2019-04-30</th>\n",
       "      <td>0.672060</td>\n",
       "      <td>0.403335</td>\n",
       "      <td>0.217122</td>\n",
       "      <td>0.548168</td>\n",
       "    </tr>\n",
       "    <tr>\n",
       "      <th>2019-05-01</th>\n",
       "      <td>0.931730</td>\n",
       "      <td>0.415038</td>\n",
       "      <td>0.156011</td>\n",
       "      <td>0.001293</td>\n",
       "    </tr>\n",
       "    <tr>\n",
       "      <th>2019-05-02</th>\n",
       "      <td>0.243020</td>\n",
       "      <td>0.790802</td>\n",
       "      <td>0.803832</td>\n",
       "      <td>0.045548</td>\n",
       "    </tr>\n",
       "    <tr>\n",
       "      <th>2019-05-03</th>\n",
       "      <td>0.009489</td>\n",
       "      <td>0.734443</td>\n",
       "      <td>0.631655</td>\n",
       "      <td>0.937986</td>\n",
       "    </tr>\n",
       "    <tr>\n",
       "      <th>2019-05-04</th>\n",
       "      <td>0.368538</td>\n",
       "      <td>0.083252</td>\n",
       "      <td>0.059363</td>\n",
       "      <td>0.483179</td>\n",
       "    </tr>\n",
       "    <tr>\n",
       "      <th>2019-05-05</th>\n",
       "      <td>0.504221</td>\n",
       "      <td>0.446846</td>\n",
       "      <td>0.624110</td>\n",
       "      <td>0.245147</td>\n",
       "    </tr>\n",
       "    <tr>\n",
       "      <th>2019-05-06</th>\n",
       "      <td>0.119075</td>\n",
       "      <td>0.946445</td>\n",
       "      <td>0.880078</td>\n",
       "      <td>0.769072</td>\n",
       "    </tr>\n",
       "    <tr>\n",
       "      <th>2019-05-07</th>\n",
       "      <td>0.078390</td>\n",
       "      <td>0.540933</td>\n",
       "      <td>0.338748</td>\n",
       "      <td>0.773392</td>\n",
       "    </tr>\n",
       "    <tr>\n",
       "      <th>2019-05-08</th>\n",
       "      <td>0.884741</td>\n",
       "      <td>0.072281</td>\n",
       "      <td>0.898550</td>\n",
       "      <td>0.144862</td>\n",
       "    </tr>\n",
       "    <tr>\n",
       "      <th>2019-05-09</th>\n",
       "      <td>0.303907</td>\n",
       "      <td>0.727261</td>\n",
       "      <td>0.178299</td>\n",
       "      <td>0.514765</td>\n",
       "    </tr>\n",
       "    <tr>\n",
       "      <th>2019-05-10</th>\n",
       "      <td>0.675005</td>\n",
       "      <td>0.670265</td>\n",
       "      <td>0.555708</td>\n",
       "      <td>0.706964</td>\n",
       "    </tr>\n",
       "    <tr>\n",
       "      <th>2019-05-11</th>\n",
       "      <td>0.773826</td>\n",
       "      <td>0.113566</td>\n",
       "      <td>0.759589</td>\n",
       "      <td>0.550731</td>\n",
       "    </tr>\n",
       "    <tr>\n",
       "      <th>2019-05-12</th>\n",
       "      <td>0.004656</td>\n",
       "      <td>0.455758</td>\n",
       "      <td>0.394919</td>\n",
       "      <td>0.429610</td>\n",
       "    </tr>\n",
       "    <tr>\n",
       "      <th>2019-05-13</th>\n",
       "      <td>0.955000</td>\n",
       "      <td>0.601192</td>\n",
       "      <td>0.665424</td>\n",
       "      <td>0.690937</td>\n",
       "    </tr>\n",
       "  </tbody>\n",
       "</table>\n",
       "<p>100 rows × 4 columns</p>\n",
       "</div>"
      ],
      "text/plain": [
       "               India     china       USA  Australia\n",
       "2019-02-03  0.561687  0.026644  0.059057   0.021650\n",
       "2019-02-04  0.171599  0.968230  0.755531   0.289665\n",
       "2019-02-05  0.210644  0.570662  0.101439   0.909769\n",
       "2019-02-06  0.431821  0.903141  0.573115   0.584537\n",
       "2019-02-07  0.278189  0.343479  0.936138   0.639339\n",
       "2019-02-08  0.484305  0.304736  0.608091   0.883428\n",
       "2019-02-09  0.150776  0.955187  0.185564   0.624672\n",
       "2019-02-10  0.254819  0.850273  0.120472   0.538940\n",
       "2019-02-11  0.855378  0.430699  0.347006   0.905599\n",
       "2019-02-12  0.638818  0.319534  0.825962   0.246578\n",
       "2019-02-13  0.274473  0.131893  0.825836   0.163856\n",
       "2019-02-14  0.616612  0.945879  0.513415   0.266121\n",
       "2019-02-15  0.794158  0.212578  0.853662   0.164347\n",
       "2019-02-16  0.880385  0.712394  0.036818   0.970941\n",
       "2019-02-17  0.963146  0.685298  0.607715   0.088017\n",
       "2019-02-18  0.713276  0.546849  0.791204   0.895440\n",
       "2019-02-19  0.885576  0.010016  0.497354   0.953016\n",
       "2019-02-20  0.811011  0.076418  0.667760   0.368021\n",
       "2019-02-21  0.085537  0.586036  0.472979   0.757829\n",
       "2019-02-22  0.189271  0.724781  0.542511   0.157971\n",
       "2019-02-23  0.797079  0.475385  0.875746   0.216631\n",
       "2019-02-24  0.914694  0.261866  0.592799   0.231366\n",
       "2019-02-25  0.426500  0.711778  0.879790   0.969634\n",
       "2019-02-26  0.517320  0.581717  0.539243   0.204905\n",
       "2019-02-27  0.046886  0.132131  0.371027   0.076186\n",
       "2019-02-28  0.920692  0.309538  0.404982   0.815153\n",
       "2019-03-01  0.138878  0.563108  0.124554   0.663975\n",
       "2019-03-02  0.516541  0.889803  0.406787   0.541693\n",
       "2019-03-03  0.969173  0.943434  0.977019   0.477913\n",
       "2019-03-04  0.793036  0.792232  0.461578   0.824681\n",
       "...              ...       ...       ...        ...\n",
       "2019-04-14  0.873556  0.322495  0.499768   0.549345\n",
       "2019-04-15  0.290535  0.669179  0.238347   0.529159\n",
       "2019-04-16  0.729453  0.416177  0.035771   0.070366\n",
       "2019-04-17  0.792285  0.357755  0.281401   0.614828\n",
       "2019-04-18  0.123199  0.639160  0.230934   0.516097\n",
       "2019-04-19  0.503479  0.521120  0.375585   0.035343\n",
       "2019-04-20  0.822071  0.977576  0.703625   0.518750\n",
       "2019-04-21  0.331562  0.934081  0.216947   0.282176\n",
       "2019-04-22  0.831867  0.590679  0.824545   0.487536\n",
       "2019-04-23  0.964058  0.325643  0.260777   0.022131\n",
       "2019-04-24  0.556043  0.826493  0.729029   0.618965\n",
       "2019-04-25  0.445930  0.379233  0.524917   0.872422\n",
       "2019-04-26  0.228563  0.396685  0.960391   0.425371\n",
       "2019-04-27  0.733031  0.972714  0.257847   0.891153\n",
       "2019-04-28  0.346125  0.496411  0.556203   0.283684\n",
       "2019-04-29  0.363941  0.768957  0.368002   0.079431\n",
       "2019-04-30  0.672060  0.403335  0.217122   0.548168\n",
       "2019-05-01  0.931730  0.415038  0.156011   0.001293\n",
       "2019-05-02  0.243020  0.790802  0.803832   0.045548\n",
       "2019-05-03  0.009489  0.734443  0.631655   0.937986\n",
       "2019-05-04  0.368538  0.083252  0.059363   0.483179\n",
       "2019-05-05  0.504221  0.446846  0.624110   0.245147\n",
       "2019-05-06  0.119075  0.946445  0.880078   0.769072\n",
       "2019-05-07  0.078390  0.540933  0.338748   0.773392\n",
       "2019-05-08  0.884741  0.072281  0.898550   0.144862\n",
       "2019-05-09  0.303907  0.727261  0.178299   0.514765\n",
       "2019-05-10  0.675005  0.670265  0.555708   0.706964\n",
       "2019-05-11  0.773826  0.113566  0.759589   0.550731\n",
       "2019-05-12  0.004656  0.455758  0.394919   0.429610\n",
       "2019-05-13  0.955000  0.601192  0.665424   0.690937\n",
       "\n",
       "[100 rows x 4 columns]"
      ]
     },
     "execution_count": 91,
     "metadata": {},
     "output_type": "execute_result"
    }
   ],
   "source": [
    "s"
   ]
  },
  {
   "cell_type": "code",
   "execution_count": 92,
   "metadata": {},
   "outputs": [
    {
     "data": {
      "text/plain": [
       "2019-02-03    0.561687\n",
       "2019-02-04    0.171599\n",
       "2019-02-05    0.210644\n",
       "2019-02-06    0.431821\n",
       "2019-02-07    0.278189\n",
       "2019-02-08    0.484305\n",
       "2019-02-09    0.150776\n",
       "2019-02-10    0.254819\n",
       "2019-02-11    0.855378\n",
       "2019-02-12    0.638818\n",
       "2019-02-13    0.274473\n",
       "2019-02-14    0.616612\n",
       "2019-02-15    0.794158\n",
       "2019-02-16    0.880385\n",
       "2019-02-17    0.963146\n",
       "2019-02-18    0.713276\n",
       "2019-02-19    0.885576\n",
       "2019-02-20    0.811011\n",
       "2019-02-21    0.085537\n",
       "2019-02-22    0.189271\n",
       "2019-02-23    0.797079\n",
       "2019-02-24    0.914694\n",
       "2019-02-25    0.426500\n",
       "2019-02-26    0.517320\n",
       "2019-02-27    0.046886\n",
       "2019-02-28    0.920692\n",
       "2019-03-01    0.138878\n",
       "2019-03-02    0.516541\n",
       "2019-03-03    0.969173\n",
       "2019-03-04    0.793036\n",
       "                ...   \n",
       "2019-04-14    0.873556\n",
       "2019-04-15    0.290535\n",
       "2019-04-16    0.729453\n",
       "2019-04-17    0.792285\n",
       "2019-04-18    0.123199\n",
       "2019-04-19    0.503479\n",
       "2019-04-20    0.822071\n",
       "2019-04-21    0.331562\n",
       "2019-04-22    0.831867\n",
       "2019-04-23    0.964058\n",
       "2019-04-24    0.556043\n",
       "2019-04-25    0.445930\n",
       "2019-04-26    0.228563\n",
       "2019-04-27    0.733031\n",
       "2019-04-28    0.346125\n",
       "2019-04-29    0.363941\n",
       "2019-04-30    0.672060\n",
       "2019-05-01    0.931730\n",
       "2019-05-02    0.243020\n",
       "2019-05-03    0.009489\n",
       "2019-05-04    0.368538\n",
       "2019-05-05    0.504221\n",
       "2019-05-06    0.119075\n",
       "2019-05-07    0.078390\n",
       "2019-05-08    0.884741\n",
       "2019-05-09    0.303907\n",
       "2019-05-10    0.675005\n",
       "2019-05-11    0.773826\n",
       "2019-05-12    0.004656\n",
       "2019-05-13    0.955000\n",
       "Freq: D, Name: India, Length: 100, dtype: float64"
      ]
     },
     "execution_count": 92,
     "metadata": {},
     "output_type": "execute_result"
    }
   ],
   "source": [
    "s[\"India\"]"
   ]
  },
  {
   "cell_type": "code",
   "execution_count": 93,
   "metadata": {},
   "outputs": [
    {
     "data": {
      "text/plain": [
       "True"
      ]
     },
     "execution_count": 93,
     "metadata": {},
     "output_type": "execute_result"
    }
   ],
   "source": [
    "s.index.is_unique"
   ]
  },
  {
   "cell_type": "code",
   "execution_count": 111,
   "metadata": {},
   "outputs": [
    {
     "data": {
      "text/html": [
       "<div>\n",
       "<style scoped>\n",
       "    .dataframe tbody tr th:only-of-type {\n",
       "        vertical-align: middle;\n",
       "    }\n",
       "\n",
       "    .dataframe tbody tr th {\n",
       "        vertical-align: top;\n",
       "    }\n",
       "\n",
       "    .dataframe thead th {\n",
       "        text-align: right;\n",
       "    }\n",
       "</style>\n",
       "<table border=\"1\" class=\"dataframe\">\n",
       "  <thead>\n",
       "    <tr style=\"text-align: right;\">\n",
       "      <th></th>\n",
       "      <th>India</th>\n",
       "      <th>china</th>\n",
       "      <th>USA</th>\n",
       "      <th>Australia</th>\n",
       "    </tr>\n",
       "  </thead>\n",
       "  <tbody>\n",
       "    <tr>\n",
       "      <th>2019-03-22</th>\n",
       "      <td>0.649657</td>\n",
       "      <td>0.726140</td>\n",
       "      <td>0.517152</td>\n",
       "      <td>0.715137</td>\n",
       "    </tr>\n",
       "    <tr>\n",
       "      <th>2019-03-23</th>\n",
       "      <td>0.904547</td>\n",
       "      <td>0.910240</td>\n",
       "      <td>0.471125</td>\n",
       "      <td>0.086212</td>\n",
       "    </tr>\n",
       "    <tr>\n",
       "      <th>2019-03-24</th>\n",
       "      <td>0.603666</td>\n",
       "      <td>0.976558</td>\n",
       "      <td>0.431061</td>\n",
       "      <td>0.669716</td>\n",
       "    </tr>\n",
       "    <tr>\n",
       "      <th>2019-03-25</th>\n",
       "      <td>0.548500</td>\n",
       "      <td>0.722388</td>\n",
       "      <td>0.294590</td>\n",
       "      <td>0.591166</td>\n",
       "    </tr>\n",
       "    <tr>\n",
       "      <th>2019-03-26</th>\n",
       "      <td>0.278944</td>\n",
       "      <td>0.804067</td>\n",
       "      <td>0.651693</td>\n",
       "      <td>0.669809</td>\n",
       "    </tr>\n",
       "    <tr>\n",
       "      <th>2019-03-27</th>\n",
       "      <td>0.227891</td>\n",
       "      <td>0.723808</td>\n",
       "      <td>0.765681</td>\n",
       "      <td>0.652984</td>\n",
       "    </tr>\n",
       "    <tr>\n",
       "      <th>2019-03-28</th>\n",
       "      <td>0.016737</td>\n",
       "      <td>0.995045</td>\n",
       "      <td>0.528605</td>\n",
       "      <td>0.047131</td>\n",
       "    </tr>\n",
       "    <tr>\n",
       "      <th>2019-03-29</th>\n",
       "      <td>0.904448</td>\n",
       "      <td>0.270985</td>\n",
       "      <td>0.869134</td>\n",
       "      <td>0.027217</td>\n",
       "    </tr>\n",
       "    <tr>\n",
       "      <th>2019-03-30</th>\n",
       "      <td>0.890185</td>\n",
       "      <td>0.219193</td>\n",
       "      <td>0.932139</td>\n",
       "      <td>0.742753</td>\n",
       "    </tr>\n",
       "    <tr>\n",
       "      <th>2019-03-31</th>\n",
       "      <td>0.804631</td>\n",
       "      <td>0.818752</td>\n",
       "      <td>0.334091</td>\n",
       "      <td>0.322854</td>\n",
       "    </tr>\n",
       "    <tr>\n",
       "      <th>2019-04-01</th>\n",
       "      <td>0.731229</td>\n",
       "      <td>0.642996</td>\n",
       "      <td>0.074709</td>\n",
       "      <td>0.990711</td>\n",
       "    </tr>\n",
       "    <tr>\n",
       "      <th>2019-04-02</th>\n",
       "      <td>0.210977</td>\n",
       "      <td>0.417473</td>\n",
       "      <td>0.453710</td>\n",
       "      <td>0.505558</td>\n",
       "    </tr>\n",
       "    <tr>\n",
       "      <th>2019-04-03</th>\n",
       "      <td>0.476799</td>\n",
       "      <td>0.163032</td>\n",
       "      <td>0.825630</td>\n",
       "      <td>0.732757</td>\n",
       "    </tr>\n",
       "    <tr>\n",
       "      <th>2019-04-04</th>\n",
       "      <td>0.487940</td>\n",
       "      <td>0.066202</td>\n",
       "      <td>0.990268</td>\n",
       "      <td>0.915290</td>\n",
       "    </tr>\n",
       "    <tr>\n",
       "      <th>2019-04-05</th>\n",
       "      <td>0.609840</td>\n",
       "      <td>0.546501</td>\n",
       "      <td>0.186480</td>\n",
       "      <td>0.150233</td>\n",
       "    </tr>\n",
       "    <tr>\n",
       "      <th>2019-04-06</th>\n",
       "      <td>0.778549</td>\n",
       "      <td>0.856188</td>\n",
       "      <td>0.216644</td>\n",
       "      <td>0.527711</td>\n",
       "    </tr>\n",
       "    <tr>\n",
       "      <th>2019-04-07</th>\n",
       "      <td>0.039806</td>\n",
       "      <td>0.292859</td>\n",
       "      <td>0.911271</td>\n",
       "      <td>0.412254</td>\n",
       "    </tr>\n",
       "    <tr>\n",
       "      <th>2019-04-08</th>\n",
       "      <td>0.641090</td>\n",
       "      <td>0.320124</td>\n",
       "      <td>0.720732</td>\n",
       "      <td>0.325745</td>\n",
       "    </tr>\n",
       "    <tr>\n",
       "      <th>2019-04-09</th>\n",
       "      <td>0.415464</td>\n",
       "      <td>0.614618</td>\n",
       "      <td>0.509652</td>\n",
       "      <td>0.526404</td>\n",
       "    </tr>\n",
       "    <tr>\n",
       "      <th>2019-04-10</th>\n",
       "      <td>0.900114</td>\n",
       "      <td>0.678330</td>\n",
       "      <td>0.782880</td>\n",
       "      <td>0.110844</td>\n",
       "    </tr>\n",
       "    <tr>\n",
       "      <th>2019-04-11</th>\n",
       "      <td>0.864227</td>\n",
       "      <td>0.307532</td>\n",
       "      <td>0.270946</td>\n",
       "      <td>0.982744</td>\n",
       "    </tr>\n",
       "    <tr>\n",
       "      <th>2019-04-12</th>\n",
       "      <td>0.227135</td>\n",
       "      <td>0.476743</td>\n",
       "      <td>0.783256</td>\n",
       "      <td>0.771675</td>\n",
       "    </tr>\n",
       "    <tr>\n",
       "      <th>2019-04-13</th>\n",
       "      <td>0.133943</td>\n",
       "      <td>0.273975</td>\n",
       "      <td>0.467811</td>\n",
       "      <td>0.029520</td>\n",
       "    </tr>\n",
       "    <tr>\n",
       "      <th>2019-04-14</th>\n",
       "      <td>0.873556</td>\n",
       "      <td>0.322495</td>\n",
       "      <td>0.499768</td>\n",
       "      <td>0.549345</td>\n",
       "    </tr>\n",
       "    <tr>\n",
       "      <th>2019-04-15</th>\n",
       "      <td>0.290535</td>\n",
       "      <td>0.669179</td>\n",
       "      <td>0.238347</td>\n",
       "      <td>0.529159</td>\n",
       "    </tr>\n",
       "    <tr>\n",
       "      <th>2019-04-16</th>\n",
       "      <td>0.729453</td>\n",
       "      <td>0.416177</td>\n",
       "      <td>0.035771</td>\n",
       "      <td>0.070366</td>\n",
       "    </tr>\n",
       "    <tr>\n",
       "      <th>2019-04-17</th>\n",
       "      <td>0.792285</td>\n",
       "      <td>0.357755</td>\n",
       "      <td>0.281401</td>\n",
       "      <td>0.614828</td>\n",
       "    </tr>\n",
       "    <tr>\n",
       "      <th>2019-04-18</th>\n",
       "      <td>0.123199</td>\n",
       "      <td>0.639160</td>\n",
       "      <td>0.230934</td>\n",
       "      <td>0.516097</td>\n",
       "    </tr>\n",
       "    <tr>\n",
       "      <th>2019-04-19</th>\n",
       "      <td>0.503479</td>\n",
       "      <td>0.521120</td>\n",
       "      <td>0.375585</td>\n",
       "      <td>0.035343</td>\n",
       "    </tr>\n",
       "    <tr>\n",
       "      <th>2019-04-20</th>\n",
       "      <td>0.822071</td>\n",
       "      <td>0.977576</td>\n",
       "      <td>0.703625</td>\n",
       "      <td>0.518750</td>\n",
       "    </tr>\n",
       "    <tr>\n",
       "      <th>2019-04-21</th>\n",
       "      <td>0.331562</td>\n",
       "      <td>0.934081</td>\n",
       "      <td>0.216947</td>\n",
       "      <td>0.282176</td>\n",
       "    </tr>\n",
       "    <tr>\n",
       "      <th>2019-04-22</th>\n",
       "      <td>0.831867</td>\n",
       "      <td>0.590679</td>\n",
       "      <td>0.824545</td>\n",
       "      <td>0.487536</td>\n",
       "    </tr>\n",
       "    <tr>\n",
       "      <th>2019-04-23</th>\n",
       "      <td>0.964058</td>\n",
       "      <td>0.325643</td>\n",
       "      <td>0.260777</td>\n",
       "      <td>0.022131</td>\n",
       "    </tr>\n",
       "    <tr>\n",
       "      <th>2019-04-24</th>\n",
       "      <td>0.556043</td>\n",
       "      <td>0.826493</td>\n",
       "      <td>0.729029</td>\n",
       "      <td>0.618965</td>\n",
       "    </tr>\n",
       "    <tr>\n",
       "      <th>2019-04-25</th>\n",
       "      <td>0.445930</td>\n",
       "      <td>0.379233</td>\n",
       "      <td>0.524917</td>\n",
       "      <td>0.872422</td>\n",
       "    </tr>\n",
       "    <tr>\n",
       "      <th>2019-04-26</th>\n",
       "      <td>0.228563</td>\n",
       "      <td>0.396685</td>\n",
       "      <td>0.960391</td>\n",
       "      <td>0.425371</td>\n",
       "    </tr>\n",
       "    <tr>\n",
       "      <th>2019-04-27</th>\n",
       "      <td>0.733031</td>\n",
       "      <td>0.972714</td>\n",
       "      <td>0.257847</td>\n",
       "      <td>0.891153</td>\n",
       "    </tr>\n",
       "    <tr>\n",
       "      <th>2019-04-28</th>\n",
       "      <td>0.346125</td>\n",
       "      <td>0.496411</td>\n",
       "      <td>0.556203</td>\n",
       "      <td>0.283684</td>\n",
       "    </tr>\n",
       "    <tr>\n",
       "      <th>2019-04-29</th>\n",
       "      <td>0.363941</td>\n",
       "      <td>0.768957</td>\n",
       "      <td>0.368002</td>\n",
       "      <td>0.079431</td>\n",
       "    </tr>\n",
       "    <tr>\n",
       "      <th>2019-04-30</th>\n",
       "      <td>0.672060</td>\n",
       "      <td>0.403335</td>\n",
       "      <td>0.217122</td>\n",
       "      <td>0.548168</td>\n",
       "    </tr>\n",
       "    <tr>\n",
       "      <th>2019-05-01</th>\n",
       "      <td>0.931730</td>\n",
       "      <td>0.415038</td>\n",
       "      <td>0.156011</td>\n",
       "      <td>0.001293</td>\n",
       "    </tr>\n",
       "    <tr>\n",
       "      <th>2019-05-02</th>\n",
       "      <td>0.243020</td>\n",
       "      <td>0.790802</td>\n",
       "      <td>0.803832</td>\n",
       "      <td>0.045548</td>\n",
       "    </tr>\n",
       "    <tr>\n",
       "      <th>2019-05-03</th>\n",
       "      <td>0.009489</td>\n",
       "      <td>0.734443</td>\n",
       "      <td>0.631655</td>\n",
       "      <td>0.937986</td>\n",
       "    </tr>\n",
       "    <tr>\n",
       "      <th>2019-05-04</th>\n",
       "      <td>0.368538</td>\n",
       "      <td>0.083252</td>\n",
       "      <td>0.059363</td>\n",
       "      <td>0.483179</td>\n",
       "    </tr>\n",
       "    <tr>\n",
       "      <th>2019-05-05</th>\n",
       "      <td>0.504221</td>\n",
       "      <td>0.446846</td>\n",
       "      <td>0.624110</td>\n",
       "      <td>0.245147</td>\n",
       "    </tr>\n",
       "    <tr>\n",
       "      <th>2019-05-06</th>\n",
       "      <td>0.119075</td>\n",
       "      <td>0.946445</td>\n",
       "      <td>0.880078</td>\n",
       "      <td>0.769072</td>\n",
       "    </tr>\n",
       "    <tr>\n",
       "      <th>2019-05-07</th>\n",
       "      <td>0.078390</td>\n",
       "      <td>0.540933</td>\n",
       "      <td>0.338748</td>\n",
       "      <td>0.773392</td>\n",
       "    </tr>\n",
       "    <tr>\n",
       "      <th>2019-05-08</th>\n",
       "      <td>0.884741</td>\n",
       "      <td>0.072281</td>\n",
       "      <td>0.898550</td>\n",
       "      <td>0.144862</td>\n",
       "    </tr>\n",
       "    <tr>\n",
       "      <th>2019-05-09</th>\n",
       "      <td>0.303907</td>\n",
       "      <td>0.727261</td>\n",
       "      <td>0.178299</td>\n",
       "      <td>0.514765</td>\n",
       "    </tr>\n",
       "    <tr>\n",
       "      <th>2019-05-10</th>\n",
       "      <td>0.675005</td>\n",
       "      <td>0.670265</td>\n",
       "      <td>0.555708</td>\n",
       "      <td>0.706964</td>\n",
       "    </tr>\n",
       "    <tr>\n",
       "      <th>2019-05-11</th>\n",
       "      <td>0.773826</td>\n",
       "      <td>0.113566</td>\n",
       "      <td>0.759589</td>\n",
       "      <td>0.550731</td>\n",
       "    </tr>\n",
       "    <tr>\n",
       "      <th>2019-05-12</th>\n",
       "      <td>0.004656</td>\n",
       "      <td>0.455758</td>\n",
       "      <td>0.394919</td>\n",
       "      <td>0.429610</td>\n",
       "    </tr>\n",
       "    <tr>\n",
       "      <th>2019-05-13</th>\n",
       "      <td>0.955000</td>\n",
       "      <td>0.601192</td>\n",
       "      <td>0.665424</td>\n",
       "      <td>0.690937</td>\n",
       "    </tr>\n",
       "  </tbody>\n",
       "</table>\n",
       "</div>"
      ],
      "text/plain": [
       "               India     china       USA  Australia\n",
       "2019-03-22  0.649657  0.726140  0.517152   0.715137\n",
       "2019-03-23  0.904547  0.910240  0.471125   0.086212\n",
       "2019-03-24  0.603666  0.976558  0.431061   0.669716\n",
       "2019-03-25  0.548500  0.722388  0.294590   0.591166\n",
       "2019-03-26  0.278944  0.804067  0.651693   0.669809\n",
       "2019-03-27  0.227891  0.723808  0.765681   0.652984\n",
       "2019-03-28  0.016737  0.995045  0.528605   0.047131\n",
       "2019-03-29  0.904448  0.270985  0.869134   0.027217\n",
       "2019-03-30  0.890185  0.219193  0.932139   0.742753\n",
       "2019-03-31  0.804631  0.818752  0.334091   0.322854\n",
       "2019-04-01  0.731229  0.642996  0.074709   0.990711\n",
       "2019-04-02  0.210977  0.417473  0.453710   0.505558\n",
       "2019-04-03  0.476799  0.163032  0.825630   0.732757\n",
       "2019-04-04  0.487940  0.066202  0.990268   0.915290\n",
       "2019-04-05  0.609840  0.546501  0.186480   0.150233\n",
       "2019-04-06  0.778549  0.856188  0.216644   0.527711\n",
       "2019-04-07  0.039806  0.292859  0.911271   0.412254\n",
       "2019-04-08  0.641090  0.320124  0.720732   0.325745\n",
       "2019-04-09  0.415464  0.614618  0.509652   0.526404\n",
       "2019-04-10  0.900114  0.678330  0.782880   0.110844\n",
       "2019-04-11  0.864227  0.307532  0.270946   0.982744\n",
       "2019-04-12  0.227135  0.476743  0.783256   0.771675\n",
       "2019-04-13  0.133943  0.273975  0.467811   0.029520\n",
       "2019-04-14  0.873556  0.322495  0.499768   0.549345\n",
       "2019-04-15  0.290535  0.669179  0.238347   0.529159\n",
       "2019-04-16  0.729453  0.416177  0.035771   0.070366\n",
       "2019-04-17  0.792285  0.357755  0.281401   0.614828\n",
       "2019-04-18  0.123199  0.639160  0.230934   0.516097\n",
       "2019-04-19  0.503479  0.521120  0.375585   0.035343\n",
       "2019-04-20  0.822071  0.977576  0.703625   0.518750\n",
       "2019-04-21  0.331562  0.934081  0.216947   0.282176\n",
       "2019-04-22  0.831867  0.590679  0.824545   0.487536\n",
       "2019-04-23  0.964058  0.325643  0.260777   0.022131\n",
       "2019-04-24  0.556043  0.826493  0.729029   0.618965\n",
       "2019-04-25  0.445930  0.379233  0.524917   0.872422\n",
       "2019-04-26  0.228563  0.396685  0.960391   0.425371\n",
       "2019-04-27  0.733031  0.972714  0.257847   0.891153\n",
       "2019-04-28  0.346125  0.496411  0.556203   0.283684\n",
       "2019-04-29  0.363941  0.768957  0.368002   0.079431\n",
       "2019-04-30  0.672060  0.403335  0.217122   0.548168\n",
       "2019-05-01  0.931730  0.415038  0.156011   0.001293\n",
       "2019-05-02  0.243020  0.790802  0.803832   0.045548\n",
       "2019-05-03  0.009489  0.734443  0.631655   0.937986\n",
       "2019-05-04  0.368538  0.083252  0.059363   0.483179\n",
       "2019-05-05  0.504221  0.446846  0.624110   0.245147\n",
       "2019-05-06  0.119075  0.946445  0.880078   0.769072\n",
       "2019-05-07  0.078390  0.540933  0.338748   0.773392\n",
       "2019-05-08  0.884741  0.072281  0.898550   0.144862\n",
       "2019-05-09  0.303907  0.727261  0.178299   0.514765\n",
       "2019-05-10  0.675005  0.670265  0.555708   0.706964\n",
       "2019-05-11  0.773826  0.113566  0.759589   0.550731\n",
       "2019-05-12  0.004656  0.455758  0.394919   0.429610\n",
       "2019-05-13  0.955000  0.601192  0.665424   0.690937"
      ]
     },
     "execution_count": 111,
     "metadata": {},
     "output_type": "execute_result"
    }
   ],
   "source": [
    "s.loc[\"2019-03-22\":]"
   ]
  },
  {
   "cell_type": "code",
   "execution_count": 106,
   "metadata": {},
   "outputs": [],
   "source": [
    "s.groupby?"
   ]
  },
  {
   "cell_type": "code",
   "execution_count": 109,
   "metadata": {},
   "outputs": [],
   "source": [
    "group=s.groupby(level=0)"
   ]
  },
  {
   "cell_type": "code",
   "execution_count": 110,
   "metadata": {},
   "outputs": [
    {
     "data": {
      "text/html": [
       "<div>\n",
       "<style scoped>\n",
       "    .dataframe tbody tr th:only-of-type {\n",
       "        vertical-align: middle;\n",
       "    }\n",
       "\n",
       "    .dataframe tbody tr th {\n",
       "        vertical-align: top;\n",
       "    }\n",
       "\n",
       "    .dataframe thead th {\n",
       "        text-align: right;\n",
       "    }\n",
       "</style>\n",
       "<table border=\"1\" class=\"dataframe\">\n",
       "  <thead>\n",
       "    <tr style=\"text-align: right;\">\n",
       "      <th></th>\n",
       "      <th>India</th>\n",
       "      <th>china</th>\n",
       "      <th>USA</th>\n",
       "      <th>Australia</th>\n",
       "    </tr>\n",
       "  </thead>\n",
       "  <tbody>\n",
       "    <tr>\n",
       "      <th>2019-02-03</th>\n",
       "      <td>0.561687</td>\n",
       "      <td>0.026644</td>\n",
       "      <td>0.059057</td>\n",
       "      <td>0.021650</td>\n",
       "    </tr>\n",
       "    <tr>\n",
       "      <th>2019-02-04</th>\n",
       "      <td>0.171599</td>\n",
       "      <td>0.968230</td>\n",
       "      <td>0.755531</td>\n",
       "      <td>0.289665</td>\n",
       "    </tr>\n",
       "    <tr>\n",
       "      <th>2019-02-05</th>\n",
       "      <td>0.210644</td>\n",
       "      <td>0.570662</td>\n",
       "      <td>0.101439</td>\n",
       "      <td>0.909769</td>\n",
       "    </tr>\n",
       "    <tr>\n",
       "      <th>2019-02-06</th>\n",
       "      <td>0.431821</td>\n",
       "      <td>0.903141</td>\n",
       "      <td>0.573115</td>\n",
       "      <td>0.584537</td>\n",
       "    </tr>\n",
       "    <tr>\n",
       "      <th>2019-02-07</th>\n",
       "      <td>0.278189</td>\n",
       "      <td>0.343479</td>\n",
       "      <td>0.936138</td>\n",
       "      <td>0.639339</td>\n",
       "    </tr>\n",
       "    <tr>\n",
       "      <th>2019-02-08</th>\n",
       "      <td>0.484305</td>\n",
       "      <td>0.304736</td>\n",
       "      <td>0.608091</td>\n",
       "      <td>0.883428</td>\n",
       "    </tr>\n",
       "    <tr>\n",
       "      <th>2019-02-09</th>\n",
       "      <td>0.150776</td>\n",
       "      <td>0.955187</td>\n",
       "      <td>0.185564</td>\n",
       "      <td>0.624672</td>\n",
       "    </tr>\n",
       "    <tr>\n",
       "      <th>2019-02-10</th>\n",
       "      <td>0.254819</td>\n",
       "      <td>0.850273</td>\n",
       "      <td>0.120472</td>\n",
       "      <td>0.538940</td>\n",
       "    </tr>\n",
       "    <tr>\n",
       "      <th>2019-02-11</th>\n",
       "      <td>0.855378</td>\n",
       "      <td>0.430699</td>\n",
       "      <td>0.347006</td>\n",
       "      <td>0.905599</td>\n",
       "    </tr>\n",
       "    <tr>\n",
       "      <th>2019-02-12</th>\n",
       "      <td>0.638818</td>\n",
       "      <td>0.319534</td>\n",
       "      <td>0.825962</td>\n",
       "      <td>0.246578</td>\n",
       "    </tr>\n",
       "    <tr>\n",
       "      <th>2019-02-13</th>\n",
       "      <td>0.274473</td>\n",
       "      <td>0.131893</td>\n",
       "      <td>0.825836</td>\n",
       "      <td>0.163856</td>\n",
       "    </tr>\n",
       "    <tr>\n",
       "      <th>2019-02-14</th>\n",
       "      <td>0.616612</td>\n",
       "      <td>0.945879</td>\n",
       "      <td>0.513415</td>\n",
       "      <td>0.266121</td>\n",
       "    </tr>\n",
       "    <tr>\n",
       "      <th>2019-02-15</th>\n",
       "      <td>0.794158</td>\n",
       "      <td>0.212578</td>\n",
       "      <td>0.853662</td>\n",
       "      <td>0.164347</td>\n",
       "    </tr>\n",
       "    <tr>\n",
       "      <th>2019-02-16</th>\n",
       "      <td>0.880385</td>\n",
       "      <td>0.712394</td>\n",
       "      <td>0.036818</td>\n",
       "      <td>0.970941</td>\n",
       "    </tr>\n",
       "    <tr>\n",
       "      <th>2019-02-17</th>\n",
       "      <td>0.963146</td>\n",
       "      <td>0.685298</td>\n",
       "      <td>0.607715</td>\n",
       "      <td>0.088017</td>\n",
       "    </tr>\n",
       "    <tr>\n",
       "      <th>2019-02-18</th>\n",
       "      <td>0.713276</td>\n",
       "      <td>0.546849</td>\n",
       "      <td>0.791204</td>\n",
       "      <td>0.895440</td>\n",
       "    </tr>\n",
       "    <tr>\n",
       "      <th>2019-02-19</th>\n",
       "      <td>0.885576</td>\n",
       "      <td>0.010016</td>\n",
       "      <td>0.497354</td>\n",
       "      <td>0.953016</td>\n",
       "    </tr>\n",
       "    <tr>\n",
       "      <th>2019-02-20</th>\n",
       "      <td>0.811011</td>\n",
       "      <td>0.076418</td>\n",
       "      <td>0.667760</td>\n",
       "      <td>0.368021</td>\n",
       "    </tr>\n",
       "    <tr>\n",
       "      <th>2019-02-21</th>\n",
       "      <td>0.085537</td>\n",
       "      <td>0.586036</td>\n",
       "      <td>0.472979</td>\n",
       "      <td>0.757829</td>\n",
       "    </tr>\n",
       "    <tr>\n",
       "      <th>2019-02-22</th>\n",
       "      <td>0.189271</td>\n",
       "      <td>0.724781</td>\n",
       "      <td>0.542511</td>\n",
       "      <td>0.157971</td>\n",
       "    </tr>\n",
       "    <tr>\n",
       "      <th>2019-02-23</th>\n",
       "      <td>0.797079</td>\n",
       "      <td>0.475385</td>\n",
       "      <td>0.875746</td>\n",
       "      <td>0.216631</td>\n",
       "    </tr>\n",
       "    <tr>\n",
       "      <th>2019-02-24</th>\n",
       "      <td>0.914694</td>\n",
       "      <td>0.261866</td>\n",
       "      <td>0.592799</td>\n",
       "      <td>0.231366</td>\n",
       "    </tr>\n",
       "    <tr>\n",
       "      <th>2019-02-25</th>\n",
       "      <td>0.426500</td>\n",
       "      <td>0.711778</td>\n",
       "      <td>0.879790</td>\n",
       "      <td>0.969634</td>\n",
       "    </tr>\n",
       "    <tr>\n",
       "      <th>2019-02-26</th>\n",
       "      <td>0.517320</td>\n",
       "      <td>0.581717</td>\n",
       "      <td>0.539243</td>\n",
       "      <td>0.204905</td>\n",
       "    </tr>\n",
       "    <tr>\n",
       "      <th>2019-02-27</th>\n",
       "      <td>0.046886</td>\n",
       "      <td>0.132131</td>\n",
       "      <td>0.371027</td>\n",
       "      <td>0.076186</td>\n",
       "    </tr>\n",
       "    <tr>\n",
       "      <th>2019-02-28</th>\n",
       "      <td>0.920692</td>\n",
       "      <td>0.309538</td>\n",
       "      <td>0.404982</td>\n",
       "      <td>0.815153</td>\n",
       "    </tr>\n",
       "    <tr>\n",
       "      <th>2019-03-01</th>\n",
       "      <td>0.138878</td>\n",
       "      <td>0.563108</td>\n",
       "      <td>0.124554</td>\n",
       "      <td>0.663975</td>\n",
       "    </tr>\n",
       "    <tr>\n",
       "      <th>2019-03-02</th>\n",
       "      <td>0.516541</td>\n",
       "      <td>0.889803</td>\n",
       "      <td>0.406787</td>\n",
       "      <td>0.541693</td>\n",
       "    </tr>\n",
       "    <tr>\n",
       "      <th>2019-03-03</th>\n",
       "      <td>0.969173</td>\n",
       "      <td>0.943434</td>\n",
       "      <td>0.977019</td>\n",
       "      <td>0.477913</td>\n",
       "    </tr>\n",
       "    <tr>\n",
       "      <th>2019-03-04</th>\n",
       "      <td>0.793036</td>\n",
       "      <td>0.792232</td>\n",
       "      <td>0.461578</td>\n",
       "      <td>0.824681</td>\n",
       "    </tr>\n",
       "    <tr>\n",
       "      <th>...</th>\n",
       "      <td>...</td>\n",
       "      <td>...</td>\n",
       "      <td>...</td>\n",
       "      <td>...</td>\n",
       "    </tr>\n",
       "    <tr>\n",
       "      <th>2019-04-14</th>\n",
       "      <td>0.873556</td>\n",
       "      <td>0.322495</td>\n",
       "      <td>0.499768</td>\n",
       "      <td>0.549345</td>\n",
       "    </tr>\n",
       "    <tr>\n",
       "      <th>2019-04-15</th>\n",
       "      <td>0.290535</td>\n",
       "      <td>0.669179</td>\n",
       "      <td>0.238347</td>\n",
       "      <td>0.529159</td>\n",
       "    </tr>\n",
       "    <tr>\n",
       "      <th>2019-04-16</th>\n",
       "      <td>0.729453</td>\n",
       "      <td>0.416177</td>\n",
       "      <td>0.035771</td>\n",
       "      <td>0.070366</td>\n",
       "    </tr>\n",
       "    <tr>\n",
       "      <th>2019-04-17</th>\n",
       "      <td>0.792285</td>\n",
       "      <td>0.357755</td>\n",
       "      <td>0.281401</td>\n",
       "      <td>0.614828</td>\n",
       "    </tr>\n",
       "    <tr>\n",
       "      <th>2019-04-18</th>\n",
       "      <td>0.123199</td>\n",
       "      <td>0.639160</td>\n",
       "      <td>0.230934</td>\n",
       "      <td>0.516097</td>\n",
       "    </tr>\n",
       "    <tr>\n",
       "      <th>2019-04-19</th>\n",
       "      <td>0.503479</td>\n",
       "      <td>0.521120</td>\n",
       "      <td>0.375585</td>\n",
       "      <td>0.035343</td>\n",
       "    </tr>\n",
       "    <tr>\n",
       "      <th>2019-04-20</th>\n",
       "      <td>0.822071</td>\n",
       "      <td>0.977576</td>\n",
       "      <td>0.703625</td>\n",
       "      <td>0.518750</td>\n",
       "    </tr>\n",
       "    <tr>\n",
       "      <th>2019-04-21</th>\n",
       "      <td>0.331562</td>\n",
       "      <td>0.934081</td>\n",
       "      <td>0.216947</td>\n",
       "      <td>0.282176</td>\n",
       "    </tr>\n",
       "    <tr>\n",
       "      <th>2019-04-22</th>\n",
       "      <td>0.831867</td>\n",
       "      <td>0.590679</td>\n",
       "      <td>0.824545</td>\n",
       "      <td>0.487536</td>\n",
       "    </tr>\n",
       "    <tr>\n",
       "      <th>2019-04-23</th>\n",
       "      <td>0.964058</td>\n",
       "      <td>0.325643</td>\n",
       "      <td>0.260777</td>\n",
       "      <td>0.022131</td>\n",
       "    </tr>\n",
       "    <tr>\n",
       "      <th>2019-04-24</th>\n",
       "      <td>0.556043</td>\n",
       "      <td>0.826493</td>\n",
       "      <td>0.729029</td>\n",
       "      <td>0.618965</td>\n",
       "    </tr>\n",
       "    <tr>\n",
       "      <th>2019-04-25</th>\n",
       "      <td>0.445930</td>\n",
       "      <td>0.379233</td>\n",
       "      <td>0.524917</td>\n",
       "      <td>0.872422</td>\n",
       "    </tr>\n",
       "    <tr>\n",
       "      <th>2019-04-26</th>\n",
       "      <td>0.228563</td>\n",
       "      <td>0.396685</td>\n",
       "      <td>0.960391</td>\n",
       "      <td>0.425371</td>\n",
       "    </tr>\n",
       "    <tr>\n",
       "      <th>2019-04-27</th>\n",
       "      <td>0.733031</td>\n",
       "      <td>0.972714</td>\n",
       "      <td>0.257847</td>\n",
       "      <td>0.891153</td>\n",
       "    </tr>\n",
       "    <tr>\n",
       "      <th>2019-04-28</th>\n",
       "      <td>0.346125</td>\n",
       "      <td>0.496411</td>\n",
       "      <td>0.556203</td>\n",
       "      <td>0.283684</td>\n",
       "    </tr>\n",
       "    <tr>\n",
       "      <th>2019-04-29</th>\n",
       "      <td>0.363941</td>\n",
       "      <td>0.768957</td>\n",
       "      <td>0.368002</td>\n",
       "      <td>0.079431</td>\n",
       "    </tr>\n",
       "    <tr>\n",
       "      <th>2019-04-30</th>\n",
       "      <td>0.672060</td>\n",
       "      <td>0.403335</td>\n",
       "      <td>0.217122</td>\n",
       "      <td>0.548168</td>\n",
       "    </tr>\n",
       "    <tr>\n",
       "      <th>2019-05-01</th>\n",
       "      <td>0.931730</td>\n",
       "      <td>0.415038</td>\n",
       "      <td>0.156011</td>\n",
       "      <td>0.001293</td>\n",
       "    </tr>\n",
       "    <tr>\n",
       "      <th>2019-05-02</th>\n",
       "      <td>0.243020</td>\n",
       "      <td>0.790802</td>\n",
       "      <td>0.803832</td>\n",
       "      <td>0.045548</td>\n",
       "    </tr>\n",
       "    <tr>\n",
       "      <th>2019-05-03</th>\n",
       "      <td>0.009489</td>\n",
       "      <td>0.734443</td>\n",
       "      <td>0.631655</td>\n",
       "      <td>0.937986</td>\n",
       "    </tr>\n",
       "    <tr>\n",
       "      <th>2019-05-04</th>\n",
       "      <td>0.368538</td>\n",
       "      <td>0.083252</td>\n",
       "      <td>0.059363</td>\n",
       "      <td>0.483179</td>\n",
       "    </tr>\n",
       "    <tr>\n",
       "      <th>2019-05-05</th>\n",
       "      <td>0.504221</td>\n",
       "      <td>0.446846</td>\n",
       "      <td>0.624110</td>\n",
       "      <td>0.245147</td>\n",
       "    </tr>\n",
       "    <tr>\n",
       "      <th>2019-05-06</th>\n",
       "      <td>0.119075</td>\n",
       "      <td>0.946445</td>\n",
       "      <td>0.880078</td>\n",
       "      <td>0.769072</td>\n",
       "    </tr>\n",
       "    <tr>\n",
       "      <th>2019-05-07</th>\n",
       "      <td>0.078390</td>\n",
       "      <td>0.540933</td>\n",
       "      <td>0.338748</td>\n",
       "      <td>0.773392</td>\n",
       "    </tr>\n",
       "    <tr>\n",
       "      <th>2019-05-08</th>\n",
       "      <td>0.884741</td>\n",
       "      <td>0.072281</td>\n",
       "      <td>0.898550</td>\n",
       "      <td>0.144862</td>\n",
       "    </tr>\n",
       "    <tr>\n",
       "      <th>2019-05-09</th>\n",
       "      <td>0.303907</td>\n",
       "      <td>0.727261</td>\n",
       "      <td>0.178299</td>\n",
       "      <td>0.514765</td>\n",
       "    </tr>\n",
       "    <tr>\n",
       "      <th>2019-05-10</th>\n",
       "      <td>0.675005</td>\n",
       "      <td>0.670265</td>\n",
       "      <td>0.555708</td>\n",
       "      <td>0.706964</td>\n",
       "    </tr>\n",
       "    <tr>\n",
       "      <th>2019-05-11</th>\n",
       "      <td>0.773826</td>\n",
       "      <td>0.113566</td>\n",
       "      <td>0.759589</td>\n",
       "      <td>0.550731</td>\n",
       "    </tr>\n",
       "    <tr>\n",
       "      <th>2019-05-12</th>\n",
       "      <td>0.004656</td>\n",
       "      <td>0.455758</td>\n",
       "      <td>0.394919</td>\n",
       "      <td>0.429610</td>\n",
       "    </tr>\n",
       "    <tr>\n",
       "      <th>2019-05-13</th>\n",
       "      <td>0.955000</td>\n",
       "      <td>0.601192</td>\n",
       "      <td>0.665424</td>\n",
       "      <td>0.690937</td>\n",
       "    </tr>\n",
       "  </tbody>\n",
       "</table>\n",
       "<p>100 rows × 4 columns</p>\n",
       "</div>"
      ],
      "text/plain": [
       "               India     china       USA  Australia\n",
       "2019-02-03  0.561687  0.026644  0.059057   0.021650\n",
       "2019-02-04  0.171599  0.968230  0.755531   0.289665\n",
       "2019-02-05  0.210644  0.570662  0.101439   0.909769\n",
       "2019-02-06  0.431821  0.903141  0.573115   0.584537\n",
       "2019-02-07  0.278189  0.343479  0.936138   0.639339\n",
       "2019-02-08  0.484305  0.304736  0.608091   0.883428\n",
       "2019-02-09  0.150776  0.955187  0.185564   0.624672\n",
       "2019-02-10  0.254819  0.850273  0.120472   0.538940\n",
       "2019-02-11  0.855378  0.430699  0.347006   0.905599\n",
       "2019-02-12  0.638818  0.319534  0.825962   0.246578\n",
       "2019-02-13  0.274473  0.131893  0.825836   0.163856\n",
       "2019-02-14  0.616612  0.945879  0.513415   0.266121\n",
       "2019-02-15  0.794158  0.212578  0.853662   0.164347\n",
       "2019-02-16  0.880385  0.712394  0.036818   0.970941\n",
       "2019-02-17  0.963146  0.685298  0.607715   0.088017\n",
       "2019-02-18  0.713276  0.546849  0.791204   0.895440\n",
       "2019-02-19  0.885576  0.010016  0.497354   0.953016\n",
       "2019-02-20  0.811011  0.076418  0.667760   0.368021\n",
       "2019-02-21  0.085537  0.586036  0.472979   0.757829\n",
       "2019-02-22  0.189271  0.724781  0.542511   0.157971\n",
       "2019-02-23  0.797079  0.475385  0.875746   0.216631\n",
       "2019-02-24  0.914694  0.261866  0.592799   0.231366\n",
       "2019-02-25  0.426500  0.711778  0.879790   0.969634\n",
       "2019-02-26  0.517320  0.581717  0.539243   0.204905\n",
       "2019-02-27  0.046886  0.132131  0.371027   0.076186\n",
       "2019-02-28  0.920692  0.309538  0.404982   0.815153\n",
       "2019-03-01  0.138878  0.563108  0.124554   0.663975\n",
       "2019-03-02  0.516541  0.889803  0.406787   0.541693\n",
       "2019-03-03  0.969173  0.943434  0.977019   0.477913\n",
       "2019-03-04  0.793036  0.792232  0.461578   0.824681\n",
       "...              ...       ...       ...        ...\n",
       "2019-04-14  0.873556  0.322495  0.499768   0.549345\n",
       "2019-04-15  0.290535  0.669179  0.238347   0.529159\n",
       "2019-04-16  0.729453  0.416177  0.035771   0.070366\n",
       "2019-04-17  0.792285  0.357755  0.281401   0.614828\n",
       "2019-04-18  0.123199  0.639160  0.230934   0.516097\n",
       "2019-04-19  0.503479  0.521120  0.375585   0.035343\n",
       "2019-04-20  0.822071  0.977576  0.703625   0.518750\n",
       "2019-04-21  0.331562  0.934081  0.216947   0.282176\n",
       "2019-04-22  0.831867  0.590679  0.824545   0.487536\n",
       "2019-04-23  0.964058  0.325643  0.260777   0.022131\n",
       "2019-04-24  0.556043  0.826493  0.729029   0.618965\n",
       "2019-04-25  0.445930  0.379233  0.524917   0.872422\n",
       "2019-04-26  0.228563  0.396685  0.960391   0.425371\n",
       "2019-04-27  0.733031  0.972714  0.257847   0.891153\n",
       "2019-04-28  0.346125  0.496411  0.556203   0.283684\n",
       "2019-04-29  0.363941  0.768957  0.368002   0.079431\n",
       "2019-04-30  0.672060  0.403335  0.217122   0.548168\n",
       "2019-05-01  0.931730  0.415038  0.156011   0.001293\n",
       "2019-05-02  0.243020  0.790802  0.803832   0.045548\n",
       "2019-05-03  0.009489  0.734443  0.631655   0.937986\n",
       "2019-05-04  0.368538  0.083252  0.059363   0.483179\n",
       "2019-05-05  0.504221  0.446846  0.624110   0.245147\n",
       "2019-05-06  0.119075  0.946445  0.880078   0.769072\n",
       "2019-05-07  0.078390  0.540933  0.338748   0.773392\n",
       "2019-05-08  0.884741  0.072281  0.898550   0.144862\n",
       "2019-05-09  0.303907  0.727261  0.178299   0.514765\n",
       "2019-05-10  0.675005  0.670265  0.555708   0.706964\n",
       "2019-05-11  0.773826  0.113566  0.759589   0.550731\n",
       "2019-05-12  0.004656  0.455758  0.394919   0.429610\n",
       "2019-05-13  0.955000  0.601192  0.665424   0.690937\n",
       "\n",
       "[100 rows x 4 columns]"
      ]
     },
     "execution_count": 110,
     "metadata": {},
     "output_type": "execute_result"
    }
   ],
   "source": [
    "group.mean()"
   ]
  },
  {
   "cell_type": "code",
   "execution_count": 112,
   "metadata": {},
   "outputs": [
    {
     "data": {
      "text/plain": [
       "100"
      ]
     },
     "execution_count": 112,
     "metadata": {},
     "output_type": "execute_result"
    }
   ],
   "source": [
    "s[\"India\"].count()"
   ]
  },
  {
   "cell_type": "code",
   "execution_count": 118,
   "metadata": {},
   "outputs": [
    {
     "data": {
      "text/plain": [
       "array([0.56168685, 0.17159863, 0.21064434, 0.43182063, 0.27818945,\n",
       "       0.48430488, 0.15077647, 0.25481907, 0.85537804, 0.63881814,\n",
       "       0.27447347, 0.61661237, 0.79415836, 0.88038488, 0.96314599,\n",
       "       0.71327552, 0.88557575, 0.811011  , 0.08553669, 0.18927131,\n",
       "       0.79707896, 0.9146945 , 0.4264995 , 0.51732   , 0.04688602,\n",
       "       0.92069208, 0.13887763, 0.51654101, 0.96917263, 0.79303567,\n",
       "       0.53434448, 0.83304241, 0.4942008 , 0.24935113, 0.9671519 ,\n",
       "       0.36085941, 0.18913554, 0.95485063, 0.65832572, 0.03087381,\n",
       "       0.71557976, 0.45926881, 0.6229978 , 0.18769047, 0.12418782,\n",
       "       0.10660889, 0.88963872, 0.64965748, 0.90454658, 0.60366628,\n",
       "       0.54849992, 0.27894383, 0.22789104, 0.01673725, 0.90444777,\n",
       "       0.89018479, 0.80463056, 0.73122944, 0.21097726, 0.47679922,\n",
       "       0.48794019, 0.60984013, 0.77854931, 0.03980622, 0.64108967,\n",
       "       0.41546362, 0.90011373, 0.8642266 , 0.2271347 , 0.13394332,\n",
       "       0.87355601, 0.29053465, 0.72945344, 0.79228464, 0.12319919,\n",
       "       0.503479  , 0.82207089, 0.33156198, 0.8318666 , 0.9640578 ,\n",
       "       0.556043  , 0.44592954, 0.22856274, 0.73303072, 0.34612495,\n",
       "       0.36394108, 0.67205988, 0.93172954, 0.24302013, 0.0094894 ,\n",
       "       0.3685375 , 0.50422106, 0.11907468, 0.07839028, 0.88474139,\n",
       "       0.30390654, 0.67500452, 0.7738256 , 0.00465602, 0.95500038])"
      ]
     },
     "execution_count": 118,
     "metadata": {},
     "output_type": "execute_result"
    }
   ],
   "source": [
    "s[\"India\"].unique()"
   ]
  },
  {
   "cell_type": "code",
   "execution_count": 119,
   "metadata": {},
   "outputs": [
    {
     "data": {
      "text/plain": [
       "100"
      ]
     },
     "execution_count": 119,
     "metadata": {},
     "output_type": "execute_result"
    }
   ],
   "source": [
    "len(s)"
   ]
  },
  {
   "cell_type": "code",
   "execution_count": 120,
   "metadata": {},
   "outputs": [
    {
     "data": {
      "text/plain": [
       "India        100\n",
       "china        100\n",
       "USA          100\n",
       "Australia    100\n",
       "dtype: int64"
      ]
     },
     "execution_count": 120,
     "metadata": {},
     "output_type": "execute_result"
    }
   ],
   "source": [
    "a=s.count()\n",
    "a"
   ]
  },
  {
   "cell_type": "code",
   "execution_count": 122,
   "metadata": {},
   "outputs": [
    {
     "data": {
      "text/plain": [
       "DatetimeIndex(['2020-01-01', '2020-04-01', '2020-07-01', '2020-10-01',\n",
       "               '2021-01-01'],\n",
       "              dtype='datetime64[ns]', freq='3MS')"
      ]
     },
     "execution_count": 122,
     "metadata": {},
     "output_type": "execute_result"
    }
   ],
   "source": [
    "pd.date_range(start=\"1/1/2020\",periods=5,freq=pd.offsets.MonthBegin(3))"
   ]
  },
  {
   "cell_type": "code",
   "execution_count": 124,
   "metadata": {},
   "outputs": [
    {
     "data": {
      "text/plain": [
       "DatetimeIndex(['2020-01-01', '2020-02-01', '2020-03-01', '2020-04-01',\n",
       "               '2020-05-01'],\n",
       "              dtype='datetime64[ns]', freq='MS')"
      ]
     },
     "execution_count": 124,
     "metadata": {},
     "output_type": "execute_result"
    }
   ],
   "source": [
    "pd.date_range(start=\"1/1/2020\",periods=5,freq=\"MS\")"
   ]
  },
  {
   "cell_type": "markdown",
   "metadata": {},
   "source": [
    "###  Time"
   ]
  },
  {
   "cell_type": "code",
   "execution_count": 125,
   "metadata": {},
   "outputs": [],
   "source": [
    "from pandas.tseries.offsets import Hour,Minute"
   ]
  },
  {
   "cell_type": "code",
   "execution_count": 126,
   "metadata": {},
   "outputs": [
    {
     "data": {
      "text/plain": [
       "<4 * Hours>"
      ]
     },
     "execution_count": 126,
     "metadata": {},
     "output_type": "execute_result"
    }
   ],
   "source": [
    "h=Hour(4)\n",
    "h"
   ]
  },
  {
   "cell_type": "code",
   "execution_count": 127,
   "metadata": {},
   "outputs": [
    {
     "data": {
      "text/plain": [
       "<Minute>"
      ]
     },
     "execution_count": 127,
     "metadata": {},
     "output_type": "execute_result"
    }
   ],
   "source": [
    "m=Minute()\n",
    "m"
   ]
  },
  {
   "cell_type": "code",
   "execution_count": 129,
   "metadata": {},
   "outputs": [
    {
     "data": {
      "text/plain": [
       "<30 * Minutes>"
      ]
     },
     "execution_count": 129,
     "metadata": {},
     "output_type": "execute_result"
    }
   ],
   "source": [
    "m=Minute(30)\n",
    "m"
   ]
  },
  {
   "cell_type": "code",
   "execution_count": 130,
   "metadata": {},
   "outputs": [
    {
     "data": {
      "text/plain": [
       "DatetimeIndex(['2020-02-02 00:00:00', '2020-02-02 04:00:00',\n",
       "               '2020-02-02 08:00:00', '2020-02-02 12:00:00',\n",
       "               '2020-02-02 16:00:00', '2020-02-02 20:00:00',\n",
       "               '2020-02-03 00:00:00', '2020-02-03 04:00:00',\n",
       "               '2020-02-03 08:00:00', '2020-02-03 12:00:00',\n",
       "               ...\n",
       "               '2020-03-03 08:00:00', '2020-03-03 12:00:00',\n",
       "               '2020-03-03 16:00:00', '2020-03-03 20:00:00',\n",
       "               '2020-03-04 00:00:00', '2020-03-04 04:00:00',\n",
       "               '2020-03-04 08:00:00', '2020-03-04 12:00:00',\n",
       "               '2020-03-04 16:00:00', '2020-03-04 20:00:00'],\n",
       "              dtype='datetime64[ns]', length=192, freq='4H')"
      ]
     },
     "execution_count": 130,
     "metadata": {},
     "output_type": "execute_result"
    }
   ],
   "source": [
    "pd.date_range(\"2/2/2020\",\"3/4/2020 23:59\",freq=\"4H\")"
   ]
  },
  {
   "cell_type": "code",
   "execution_count": 135,
   "metadata": {},
   "outputs": [
    {
     "data": {
      "text/plain": [
       "DatetimeIndex(['2020-02-02 00:00:00', '2020-02-02 01:30:00',\n",
       "               '2020-02-02 03:00:00', '2020-02-02 04:30:00',\n",
       "               '2020-02-02 06:00:00', '2020-02-02 07:30:00',\n",
       "               '2020-02-02 09:00:00', '2020-02-02 10:30:00',\n",
       "               '2020-02-02 12:00:00', '2020-02-02 13:30:00',\n",
       "               ...\n",
       "               '2020-03-04 09:00:00', '2020-03-04 10:30:00',\n",
       "               '2020-03-04 12:00:00', '2020-03-04 13:30:00',\n",
       "               '2020-03-04 15:00:00', '2020-03-04 16:30:00',\n",
       "               '2020-03-04 18:00:00', '2020-03-04 19:30:00',\n",
       "               '2020-03-04 21:00:00', '2020-03-04 22:30:00'],\n",
       "              dtype='datetime64[ns]', length=512, freq='90T')"
      ]
     },
     "execution_count": 135,
     "metadata": {},
     "output_type": "execute_result"
    }
   ],
   "source": [
    "pd.date_range(\"2/2/2020\",\"3/4/2020 23:59\",freq=\"1H30MIN\")"
   ]
  },
  {
   "cell_type": "code",
   "execution_count": 137,
   "metadata": {},
   "outputs": [
    {
     "data": {
      "text/plain": [
       "DatetimeIndex(['2020-03-01', '2020-03-02', '2020-03-03', '2020-03-04',\n",
       "               '2020-03-05', '2020-03-06', '2020-03-07', '2020-03-08',\n",
       "               '2020-03-09', '2020-03-10'],\n",
       "              dtype='datetime64[ns]', freq='D')"
      ]
     },
     "execution_count": 137,
     "metadata": {},
     "output_type": "execute_result"
    }
   ],
   "source": [
    "f=pd.date_range(\"3/1/2020\",periods=10)\n",
    "f"
   ]
  },
  {
   "cell_type": "code",
   "execution_count": 140,
   "metadata": {},
   "outputs": [
    {
     "name": "stdout",
     "output_type": "stream",
     "text": [
      "6 Sunday\n",
      "0 Monday\n",
      "1 Tuesday\n",
      "2 Wednesday\n",
      "3 Thursday\n",
      "4 Friday\n",
      "5 Saturday\n",
      "6 Sunday\n",
      "0 Monday\n",
      "1 Tuesday\n"
     ]
    },
    {
     "name": "stderr",
     "output_type": "stream",
     "text": [
      "C:\\ProgramData\\Anaconda3\\lib\\site-packages\\ipykernel_launcher.py:2: FutureWarning: `weekday_name` is deprecated and will be removed in a future version. Use `day_name` instead\n",
      "  \n"
     ]
    }
   ],
   "source": [
    "for i in f:\n",
    "    print(i.dayofweek,i.weekday_name)"
   ]
  },
  {
   "cell_type": "code",
   "execution_count": 141,
   "metadata": {},
   "outputs": [
    {
     "data": {
      "text/plain": [
       "datetime.datetime(2020, 1, 3, 13, 42, 31, 984133)"
      ]
     },
     "execution_count": 141,
     "metadata": {},
     "output_type": "execute_result"
    }
   ],
   "source": [
    "a=datetime.now()\n",
    "a"
   ]
  },
  {
   "cell_type": "code",
   "execution_count": 142,
   "metadata": {},
   "outputs": [],
   "source": [
    "a=date.today()"
   ]
  },
  {
   "cell_type": "code",
   "execution_count": 147,
   "metadata": {},
   "outputs": [
    {
     "data": {
      "text/plain": [
       "1999-02-18         NaN\n",
       "1999-02-19         NaN\n",
       "1999-02-20    0.583413\n",
       "1999-02-21    0.188679\n",
       "1999-02-22    0.701320\n",
       "Freq: D, dtype: float64"
      ]
     },
     "execution_count": 147,
     "metadata": {},
     "output_type": "execute_result"
    }
   ],
   "source": [
    "a=pd.Series(np.random.rand(5),index=pd.date_range(start=\"18/2/1999\",periods=5))\n",
    "a.shift(2)"
   ]
  },
  {
   "cell_type": "code",
   "execution_count": 148,
   "metadata": {},
   "outputs": [
    {
     "data": {
      "text/plain": [
       "1999-02-18    0.701320\n",
       "1999-02-19    0.630459\n",
       "1999-02-20    0.368502\n",
       "1999-02-21         NaN\n",
       "1999-02-22         NaN\n",
       "Freq: D, dtype: float64"
      ]
     },
     "execution_count": 148,
     "metadata": {},
     "output_type": "execute_result"
    }
   ],
   "source": [
    "a.shift(-2)"
   ]
  },
  {
   "cell_type": "code",
   "execution_count": 149,
   "metadata": {},
   "outputs": [
    {
     "data": {
      "text/plain": [
       "1999-02-20    0.583413\n",
       "1999-02-21    0.188679\n",
       "1999-02-22    0.701320\n",
       "1999-02-23    0.630459\n",
       "1999-02-24    0.368502\n",
       "Freq: D, dtype: float64"
      ]
     },
     "execution_count": 149,
     "metadata": {},
     "output_type": "execute_result"
    }
   ],
   "source": [
    "a.shift(2,freq=\"D\")"
   ]
  },
  {
   "cell_type": "code",
   "execution_count": 150,
   "metadata": {},
   "outputs": [
    {
     "data": {
      "text/plain": [
       "1999-02-18 01:30:00    0.583413\n",
       "1999-02-19 01:30:00    0.188679\n",
       "1999-02-20 01:30:00    0.701320\n",
       "1999-02-21 01:30:00    0.630459\n",
       "1999-02-22 01:30:00    0.368502\n",
       "Freq: D, dtype: float64"
      ]
     },
     "execution_count": 150,
     "metadata": {},
     "output_type": "execute_result"
    }
   ],
   "source": [
    "a.shift(1,freq=\"90T\")"
   ]
  },
  {
   "cell_type": "code",
   "execution_count": 152,
   "metadata": {},
   "outputs": [],
   "source": [
    "from pandas.tseries.offsets import Day,MonthEnd"
   ]
  },
  {
   "cell_type": "code",
   "execution_count": 153,
   "metadata": {},
   "outputs": [
    {
     "data": {
      "text/plain": [
       "datetime.datetime(2020, 1, 3, 13, 53, 24, 851940)"
      ]
     },
     "execution_count": 153,
     "metadata": {},
     "output_type": "execute_result"
    }
   ],
   "source": [
    "now=datetime.now()\n",
    "now"
   ]
  },
  {
   "cell_type": "code",
   "execution_count": 154,
   "metadata": {},
   "outputs": [
    {
     "data": {
      "text/plain": [
       "Timestamp('2020-01-05 13:53:24.851940')"
      ]
     },
     "execution_count": 154,
     "metadata": {},
     "output_type": "execute_result"
    }
   ],
   "source": [
    "now+2*Day()"
   ]
  },
  {
   "cell_type": "code",
   "execution_count": 155,
   "metadata": {},
   "outputs": [
    {
     "data": {
      "text/plain": [
       "Timestamp('2020-01-04 13:53:24.851940')"
      ]
     },
     "execution_count": 155,
     "metadata": {},
     "output_type": "execute_result"
    }
   ],
   "source": [
    "now+Day()"
   ]
  },
  {
   "cell_type": "code",
   "execution_count": 156,
   "metadata": {},
   "outputs": [
    {
     "data": {
      "text/plain": [
       "Timestamp('2020-01-31 13:53:24.851940')"
      ]
     },
     "execution_count": 156,
     "metadata": {},
     "output_type": "execute_result"
    }
   ],
   "source": [
    "now+MonthEnd()"
   ]
  },
  {
   "cell_type": "code",
   "execution_count": 157,
   "metadata": {},
   "outputs": [
    {
     "data": {
      "text/plain": [
       "Timestamp('2020-02-29 13:53:24.851940')"
      ]
     },
     "execution_count": 157,
     "metadata": {},
     "output_type": "execute_result"
    }
   ],
   "source": [
    "now+MonthEnd(2)"
   ]
  },
  {
   "cell_type": "code",
   "execution_count": 158,
   "metadata": {},
   "outputs": [
    {
     "data": {
      "text/plain": [
       "Timestamp('2019-12-31 13:53:24.851940')"
      ]
     },
     "execution_count": 158,
     "metadata": {},
     "output_type": "execute_result"
    }
   ],
   "source": [
    "a=MonthEnd()\n",
    "a.rollback(now)"
   ]
  },
  {
   "cell_type": "code",
   "execution_count": 161,
   "metadata": {},
   "outputs": [
    {
     "data": {
      "text/plain": [
       "Timestamp('2020-01-31 13:53:24.851940')"
      ]
     },
     "execution_count": 161,
     "metadata": {},
     "output_type": "execute_result"
    }
   ],
   "source": [
    "a.rollforward(now)"
   ]
  },
  {
   "cell_type": "code",
   "execution_count": 162,
   "metadata": {},
   "outputs": [],
   "source": [
    "import pytz                           ### python time zone"
   ]
  },
  {
   "cell_type": "code",
   "execution_count": 163,
   "metadata": {},
   "outputs": [
    {
     "data": {
      "text/plain": [
       "['Africa/Abidjan',\n",
       " 'Africa/Accra',\n",
       " 'Africa/Addis_Ababa',\n",
       " 'Africa/Algiers',\n",
       " 'Africa/Asmara',\n",
       " 'Africa/Bamako',\n",
       " 'Africa/Bangui',\n",
       " 'Africa/Banjul',\n",
       " 'Africa/Bissau',\n",
       " 'Africa/Blantyre',\n",
       " 'Africa/Brazzaville',\n",
       " 'Africa/Bujumbura',\n",
       " 'Africa/Cairo',\n",
       " 'Africa/Casablanca',\n",
       " 'Africa/Ceuta',\n",
       " 'Africa/Conakry',\n",
       " 'Africa/Dakar',\n",
       " 'Africa/Dar_es_Salaam',\n",
       " 'Africa/Djibouti',\n",
       " 'Africa/Douala',\n",
       " 'Africa/El_Aaiun',\n",
       " 'Africa/Freetown',\n",
       " 'Africa/Gaborone',\n",
       " 'Africa/Harare',\n",
       " 'Africa/Johannesburg',\n",
       " 'Africa/Juba',\n",
       " 'Africa/Kampala',\n",
       " 'Africa/Khartoum',\n",
       " 'Africa/Kigali',\n",
       " 'Africa/Kinshasa',\n",
       " 'Africa/Lagos',\n",
       " 'Africa/Libreville',\n",
       " 'Africa/Lome',\n",
       " 'Africa/Luanda',\n",
       " 'Africa/Lubumbashi',\n",
       " 'Africa/Lusaka',\n",
       " 'Africa/Malabo',\n",
       " 'Africa/Maputo',\n",
       " 'Africa/Maseru',\n",
       " 'Africa/Mbabane',\n",
       " 'Africa/Mogadishu',\n",
       " 'Africa/Monrovia',\n",
       " 'Africa/Nairobi',\n",
       " 'Africa/Ndjamena',\n",
       " 'Africa/Niamey',\n",
       " 'Africa/Nouakchott',\n",
       " 'Africa/Ouagadougou',\n",
       " 'Africa/Porto-Novo',\n",
       " 'Africa/Sao_Tome',\n",
       " 'Africa/Tripoli',\n",
       " 'Africa/Tunis',\n",
       " 'Africa/Windhoek',\n",
       " 'America/Adak',\n",
       " 'America/Anchorage',\n",
       " 'America/Anguilla',\n",
       " 'America/Antigua',\n",
       " 'America/Araguaina',\n",
       " 'America/Argentina/Buenos_Aires',\n",
       " 'America/Argentina/Catamarca',\n",
       " 'America/Argentina/Cordoba',\n",
       " 'America/Argentina/Jujuy',\n",
       " 'America/Argentina/La_Rioja',\n",
       " 'America/Argentina/Mendoza',\n",
       " 'America/Argentina/Rio_Gallegos',\n",
       " 'America/Argentina/Salta',\n",
       " 'America/Argentina/San_Juan',\n",
       " 'America/Argentina/San_Luis',\n",
       " 'America/Argentina/Tucuman',\n",
       " 'America/Argentina/Ushuaia',\n",
       " 'America/Aruba',\n",
       " 'America/Asuncion',\n",
       " 'America/Atikokan',\n",
       " 'America/Bahia',\n",
       " 'America/Bahia_Banderas',\n",
       " 'America/Barbados',\n",
       " 'America/Belem',\n",
       " 'America/Belize',\n",
       " 'America/Blanc-Sablon',\n",
       " 'America/Boa_Vista',\n",
       " 'America/Bogota',\n",
       " 'America/Boise',\n",
       " 'America/Cambridge_Bay',\n",
       " 'America/Campo_Grande',\n",
       " 'America/Cancun',\n",
       " 'America/Caracas',\n",
       " 'America/Cayenne',\n",
       " 'America/Cayman',\n",
       " 'America/Chicago',\n",
       " 'America/Chihuahua',\n",
       " 'America/Costa_Rica',\n",
       " 'America/Creston',\n",
       " 'America/Cuiaba',\n",
       " 'America/Curacao',\n",
       " 'America/Danmarkshavn',\n",
       " 'America/Dawson',\n",
       " 'America/Dawson_Creek',\n",
       " 'America/Denver',\n",
       " 'America/Detroit',\n",
       " 'America/Dominica',\n",
       " 'America/Edmonton',\n",
       " 'America/Eirunepe',\n",
       " 'America/El_Salvador',\n",
       " 'America/Fort_Nelson',\n",
       " 'America/Fortaleza',\n",
       " 'America/Glace_Bay',\n",
       " 'America/Godthab',\n",
       " 'America/Goose_Bay',\n",
       " 'America/Grand_Turk',\n",
       " 'America/Grenada',\n",
       " 'America/Guadeloupe',\n",
       " 'America/Guatemala',\n",
       " 'America/Guayaquil',\n",
       " 'America/Guyana',\n",
       " 'America/Halifax',\n",
       " 'America/Havana',\n",
       " 'America/Hermosillo',\n",
       " 'America/Indiana/Indianapolis',\n",
       " 'America/Indiana/Knox',\n",
       " 'America/Indiana/Marengo',\n",
       " 'America/Indiana/Petersburg',\n",
       " 'America/Indiana/Tell_City',\n",
       " 'America/Indiana/Vevay',\n",
       " 'America/Indiana/Vincennes',\n",
       " 'America/Indiana/Winamac',\n",
       " 'America/Inuvik',\n",
       " 'America/Iqaluit',\n",
       " 'America/Jamaica',\n",
       " 'America/Juneau',\n",
       " 'America/Kentucky/Louisville',\n",
       " 'America/Kentucky/Monticello',\n",
       " 'America/Kralendijk',\n",
       " 'America/La_Paz',\n",
       " 'America/Lima',\n",
       " 'America/Los_Angeles',\n",
       " 'America/Lower_Princes',\n",
       " 'America/Maceio',\n",
       " 'America/Managua',\n",
       " 'America/Manaus',\n",
       " 'America/Marigot',\n",
       " 'America/Martinique',\n",
       " 'America/Matamoros',\n",
       " 'America/Mazatlan',\n",
       " 'America/Menominee',\n",
       " 'America/Merida',\n",
       " 'America/Metlakatla',\n",
       " 'America/Mexico_City',\n",
       " 'America/Miquelon',\n",
       " 'America/Moncton',\n",
       " 'America/Monterrey',\n",
       " 'America/Montevideo',\n",
       " 'America/Montserrat',\n",
       " 'America/Nassau',\n",
       " 'America/New_York',\n",
       " 'America/Nipigon',\n",
       " 'America/Nome',\n",
       " 'America/Noronha',\n",
       " 'America/North_Dakota/Beulah',\n",
       " 'America/North_Dakota/Center',\n",
       " 'America/North_Dakota/New_Salem',\n",
       " 'America/Ojinaga',\n",
       " 'America/Panama',\n",
       " 'America/Pangnirtung',\n",
       " 'America/Paramaribo',\n",
       " 'America/Phoenix',\n",
       " 'America/Port-au-Prince',\n",
       " 'America/Port_of_Spain',\n",
       " 'America/Porto_Velho',\n",
       " 'America/Puerto_Rico',\n",
       " 'America/Punta_Arenas',\n",
       " 'America/Rainy_River',\n",
       " 'America/Rankin_Inlet',\n",
       " 'America/Recife',\n",
       " 'America/Regina',\n",
       " 'America/Resolute',\n",
       " 'America/Rio_Branco',\n",
       " 'America/Santarem',\n",
       " 'America/Santiago',\n",
       " 'America/Santo_Domingo',\n",
       " 'America/Sao_Paulo',\n",
       " 'America/Scoresbysund',\n",
       " 'America/Sitka',\n",
       " 'America/St_Barthelemy',\n",
       " 'America/St_Johns',\n",
       " 'America/St_Kitts',\n",
       " 'America/St_Lucia',\n",
       " 'America/St_Thomas',\n",
       " 'America/St_Vincent',\n",
       " 'America/Swift_Current',\n",
       " 'America/Tegucigalpa',\n",
       " 'America/Thule',\n",
       " 'America/Thunder_Bay',\n",
       " 'America/Tijuana',\n",
       " 'America/Toronto',\n",
       " 'America/Tortola',\n",
       " 'America/Vancouver',\n",
       " 'America/Whitehorse',\n",
       " 'America/Winnipeg',\n",
       " 'America/Yakutat',\n",
       " 'America/Yellowknife',\n",
       " 'Antarctica/Casey',\n",
       " 'Antarctica/Davis',\n",
       " 'Antarctica/DumontDUrville',\n",
       " 'Antarctica/Macquarie',\n",
       " 'Antarctica/Mawson',\n",
       " 'Antarctica/McMurdo',\n",
       " 'Antarctica/Palmer',\n",
       " 'Antarctica/Rothera',\n",
       " 'Antarctica/Syowa',\n",
       " 'Antarctica/Troll',\n",
       " 'Antarctica/Vostok',\n",
       " 'Arctic/Longyearbyen',\n",
       " 'Asia/Aden',\n",
       " 'Asia/Almaty',\n",
       " 'Asia/Amman',\n",
       " 'Asia/Anadyr',\n",
       " 'Asia/Aqtau',\n",
       " 'Asia/Aqtobe',\n",
       " 'Asia/Ashgabat',\n",
       " 'Asia/Atyrau',\n",
       " 'Asia/Baghdad',\n",
       " 'Asia/Bahrain',\n",
       " 'Asia/Baku',\n",
       " 'Asia/Bangkok',\n",
       " 'Asia/Barnaul',\n",
       " 'Asia/Beirut',\n",
       " 'Asia/Bishkek',\n",
       " 'Asia/Brunei',\n",
       " 'Asia/Chita',\n",
       " 'Asia/Choibalsan',\n",
       " 'Asia/Colombo',\n",
       " 'Asia/Damascus',\n",
       " 'Asia/Dhaka',\n",
       " 'Asia/Dili',\n",
       " 'Asia/Dubai',\n",
       " 'Asia/Dushanbe',\n",
       " 'Asia/Famagusta',\n",
       " 'Asia/Gaza',\n",
       " 'Asia/Hebron',\n",
       " 'Asia/Ho_Chi_Minh',\n",
       " 'Asia/Hong_Kong',\n",
       " 'Asia/Hovd',\n",
       " 'Asia/Irkutsk',\n",
       " 'Asia/Jakarta',\n",
       " 'Asia/Jayapura',\n",
       " 'Asia/Jerusalem',\n",
       " 'Asia/Kabul',\n",
       " 'Asia/Kamchatka',\n",
       " 'Asia/Karachi',\n",
       " 'Asia/Kathmandu',\n",
       " 'Asia/Khandyga',\n",
       " 'Asia/Kolkata',\n",
       " 'Asia/Krasnoyarsk',\n",
       " 'Asia/Kuala_Lumpur',\n",
       " 'Asia/Kuching',\n",
       " 'Asia/Kuwait',\n",
       " 'Asia/Macau',\n",
       " 'Asia/Magadan',\n",
       " 'Asia/Makassar',\n",
       " 'Asia/Manila',\n",
       " 'Asia/Muscat',\n",
       " 'Asia/Nicosia',\n",
       " 'Asia/Novokuznetsk',\n",
       " 'Asia/Novosibirsk',\n",
       " 'Asia/Omsk',\n",
       " 'Asia/Oral',\n",
       " 'Asia/Phnom_Penh',\n",
       " 'Asia/Pontianak',\n",
       " 'Asia/Pyongyang',\n",
       " 'Asia/Qatar',\n",
       " 'Asia/Qostanay',\n",
       " 'Asia/Qyzylorda',\n",
       " 'Asia/Riyadh',\n",
       " 'Asia/Sakhalin',\n",
       " 'Asia/Samarkand',\n",
       " 'Asia/Seoul',\n",
       " 'Asia/Shanghai',\n",
       " 'Asia/Singapore',\n",
       " 'Asia/Srednekolymsk',\n",
       " 'Asia/Taipei',\n",
       " 'Asia/Tashkent',\n",
       " 'Asia/Tbilisi',\n",
       " 'Asia/Tehran',\n",
       " 'Asia/Thimphu',\n",
       " 'Asia/Tokyo',\n",
       " 'Asia/Tomsk',\n",
       " 'Asia/Ulaanbaatar',\n",
       " 'Asia/Urumqi',\n",
       " 'Asia/Ust-Nera',\n",
       " 'Asia/Vientiane',\n",
       " 'Asia/Vladivostok',\n",
       " 'Asia/Yakutsk',\n",
       " 'Asia/Yangon',\n",
       " 'Asia/Yekaterinburg',\n",
       " 'Asia/Yerevan',\n",
       " 'Atlantic/Azores',\n",
       " 'Atlantic/Bermuda',\n",
       " 'Atlantic/Canary',\n",
       " 'Atlantic/Cape_Verde',\n",
       " 'Atlantic/Faroe',\n",
       " 'Atlantic/Madeira',\n",
       " 'Atlantic/Reykjavik',\n",
       " 'Atlantic/South_Georgia',\n",
       " 'Atlantic/St_Helena',\n",
       " 'Atlantic/Stanley',\n",
       " 'Australia/Adelaide',\n",
       " 'Australia/Brisbane',\n",
       " 'Australia/Broken_Hill',\n",
       " 'Australia/Currie',\n",
       " 'Australia/Darwin',\n",
       " 'Australia/Eucla',\n",
       " 'Australia/Hobart',\n",
       " 'Australia/Lindeman',\n",
       " 'Australia/Lord_Howe',\n",
       " 'Australia/Melbourne',\n",
       " 'Australia/Perth',\n",
       " 'Australia/Sydney',\n",
       " 'Canada/Atlantic',\n",
       " 'Canada/Central',\n",
       " 'Canada/Eastern',\n",
       " 'Canada/Mountain',\n",
       " 'Canada/Newfoundland',\n",
       " 'Canada/Pacific',\n",
       " 'Europe/Amsterdam',\n",
       " 'Europe/Andorra',\n",
       " 'Europe/Astrakhan',\n",
       " 'Europe/Athens',\n",
       " 'Europe/Belgrade',\n",
       " 'Europe/Berlin',\n",
       " 'Europe/Bratislava',\n",
       " 'Europe/Brussels',\n",
       " 'Europe/Bucharest',\n",
       " 'Europe/Budapest',\n",
       " 'Europe/Busingen',\n",
       " 'Europe/Chisinau',\n",
       " 'Europe/Copenhagen',\n",
       " 'Europe/Dublin',\n",
       " 'Europe/Gibraltar',\n",
       " 'Europe/Guernsey',\n",
       " 'Europe/Helsinki',\n",
       " 'Europe/Isle_of_Man',\n",
       " 'Europe/Istanbul',\n",
       " 'Europe/Jersey',\n",
       " 'Europe/Kaliningrad',\n",
       " 'Europe/Kiev',\n",
       " 'Europe/Kirov',\n",
       " 'Europe/Lisbon',\n",
       " 'Europe/Ljubljana',\n",
       " 'Europe/London',\n",
       " 'Europe/Luxembourg',\n",
       " 'Europe/Madrid',\n",
       " 'Europe/Malta',\n",
       " 'Europe/Mariehamn',\n",
       " 'Europe/Minsk',\n",
       " 'Europe/Monaco',\n",
       " 'Europe/Moscow',\n",
       " 'Europe/Oslo',\n",
       " 'Europe/Paris',\n",
       " 'Europe/Podgorica',\n",
       " 'Europe/Prague',\n",
       " 'Europe/Riga',\n",
       " 'Europe/Rome',\n",
       " 'Europe/Samara',\n",
       " 'Europe/San_Marino',\n",
       " 'Europe/Sarajevo',\n",
       " 'Europe/Saratov',\n",
       " 'Europe/Simferopol',\n",
       " 'Europe/Skopje',\n",
       " 'Europe/Sofia',\n",
       " 'Europe/Stockholm',\n",
       " 'Europe/Tallinn',\n",
       " 'Europe/Tirane',\n",
       " 'Europe/Ulyanovsk',\n",
       " 'Europe/Uzhgorod',\n",
       " 'Europe/Vaduz',\n",
       " 'Europe/Vatican',\n",
       " 'Europe/Vienna',\n",
       " 'Europe/Vilnius',\n",
       " 'Europe/Volgograd',\n",
       " 'Europe/Warsaw',\n",
       " 'Europe/Zagreb',\n",
       " 'Europe/Zaporozhye',\n",
       " 'Europe/Zurich',\n",
       " 'GMT',\n",
       " 'Indian/Antananarivo',\n",
       " 'Indian/Chagos',\n",
       " 'Indian/Christmas',\n",
       " 'Indian/Cocos',\n",
       " 'Indian/Comoro',\n",
       " 'Indian/Kerguelen',\n",
       " 'Indian/Mahe',\n",
       " 'Indian/Maldives',\n",
       " 'Indian/Mauritius',\n",
       " 'Indian/Mayotte',\n",
       " 'Indian/Reunion',\n",
       " 'Pacific/Apia',\n",
       " 'Pacific/Auckland',\n",
       " 'Pacific/Bougainville',\n",
       " 'Pacific/Chatham',\n",
       " 'Pacific/Chuuk',\n",
       " 'Pacific/Easter',\n",
       " 'Pacific/Efate',\n",
       " 'Pacific/Enderbury',\n",
       " 'Pacific/Fakaofo',\n",
       " 'Pacific/Fiji',\n",
       " 'Pacific/Funafuti',\n",
       " 'Pacific/Galapagos',\n",
       " 'Pacific/Gambier',\n",
       " 'Pacific/Guadalcanal',\n",
       " 'Pacific/Guam',\n",
       " 'Pacific/Honolulu',\n",
       " 'Pacific/Kiritimati',\n",
       " 'Pacific/Kosrae',\n",
       " 'Pacific/Kwajalein',\n",
       " 'Pacific/Majuro',\n",
       " 'Pacific/Marquesas',\n",
       " 'Pacific/Midway',\n",
       " 'Pacific/Nauru',\n",
       " 'Pacific/Niue',\n",
       " 'Pacific/Norfolk',\n",
       " 'Pacific/Noumea',\n",
       " 'Pacific/Pago_Pago',\n",
       " 'Pacific/Palau',\n",
       " 'Pacific/Pitcairn',\n",
       " 'Pacific/Pohnpei',\n",
       " 'Pacific/Port_Moresby',\n",
       " 'Pacific/Rarotonga',\n",
       " 'Pacific/Saipan',\n",
       " 'Pacific/Tahiti',\n",
       " 'Pacific/Tarawa',\n",
       " 'Pacific/Tongatapu',\n",
       " 'Pacific/Wake',\n",
       " 'Pacific/Wallis',\n",
       " 'US/Alaska',\n",
       " 'US/Arizona',\n",
       " 'US/Central',\n",
       " 'US/Eastern',\n",
       " 'US/Hawaii',\n",
       " 'US/Mountain',\n",
       " 'US/Pacific',\n",
       " 'UTC']"
      ]
     },
     "execution_count": 163,
     "metadata": {},
     "output_type": "execute_result"
    }
   ],
   "source": [
    "pytz.common_timezones[:]"
   ]
  },
  {
   "cell_type": "code",
   "execution_count": 164,
   "metadata": {},
   "outputs": [
    {
     "data": {
      "text/plain": [
       "<DstTzInfo 'Asia/Kolkata' LMT+5:53:00 STD>"
      ]
     },
     "execution_count": 164,
     "metadata": {},
     "output_type": "execute_result"
    }
   ],
   "source": [
    "t=pytz.timezone('Asia/Kolkata')\n",
    "t"
   ]
  },
  {
   "cell_type": "code",
   "execution_count": 166,
   "metadata": {},
   "outputs": [
    {
     "data": {
      "text/plain": [
       "<DstTzInfo 'Indian/Reunion' LMT+3:42:00 STD>"
      ]
     },
     "execution_count": 166,
     "metadata": {},
     "output_type": "execute_result"
    }
   ],
   "source": [
    "t=pytz.timezone( 'Indian/Reunion')\n",
    "t"
   ]
  },
  {
   "cell_type": "code",
   "execution_count": 167,
   "metadata": {},
   "outputs": [
    {
     "data": {
      "text/plain": [
       "DatetimeIndex(['2020-01-01 00:00:00+05:30', '2020-02-01 00:00:00+05:30',\n",
       "               '2020-03-01 00:00:00+05:30', '2020-04-01 00:00:00+05:30',\n",
       "               '2020-05-01 00:00:00+05:30'],\n",
       "              dtype='datetime64[ns, Asia/Kolkata]', freq='MS')"
      ]
     },
     "execution_count": 167,
     "metadata": {},
     "output_type": "execute_result"
    }
   ],
   "source": [
    "a=pd.date_range(\"1/1/2020\",periods=5,freq=\"MS\",tz='Asia/Kolkata')\n",
    "a"
   ]
  },
  {
   "cell_type": "code",
   "execution_count": 168,
   "metadata": {},
   "outputs": [
    {
     "data": {
      "text/plain": [
       "Timestamp('2020-03-01 04:00:00+0530', tz='Asia/Kolkata')"
      ]
     },
     "execution_count": 168,
     "metadata": {},
     "output_type": "execute_result"
    }
   ],
   "source": [
    "t=pd.Timestamp(\"2020-03-01 4:00\",tz=\"Asia/Kolkata\")\n",
    "t"
   ]
  },
  {
   "cell_type": "code",
   "execution_count": 170,
   "metadata": {},
   "outputs": [
    {
     "data": {
      "text/plain": [
       "Timestamp('2020-03-01 01:30:00+0300', tz='Asia/Kuwait')"
      ]
     },
     "execution_count": 170,
     "metadata": {},
     "output_type": "execute_result"
    }
   ],
   "source": [
    "t.tz_convert('Asia/Kuwait')\n"
   ]
  },
  {
   "cell_type": "code",
   "execution_count": null,
   "metadata": {},
   "outputs": [],
   "source": []
  }
 ],
 "metadata": {
  "kernelspec": {
   "display_name": "Python 3",
   "language": "python",
   "name": "python3"
  },
  "language_info": {
   "codemirror_mode": {
    "name": "ipython",
    "version": 3
   },
   "file_extension": ".py",
   "mimetype": "text/x-python",
   "name": "python",
   "nbconvert_exporter": "python",
   "pygments_lexer": "ipython3",
   "version": "3.7.3"
  }
 },
 "nbformat": 4,
 "nbformat_minor": 2
}
