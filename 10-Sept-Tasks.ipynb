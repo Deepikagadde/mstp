{
 "cells": [
  {
   "cell_type": "markdown",
   "metadata": {},
   "source": [
    "#### Function to calculate the average of all factorials in a given range"
   ]
  },
  {
   "cell_type": "code",
   "execution_count": 7,
   "metadata": {},
   "outputs": [
    {
     "data": {
      "text/plain": [
       "8.25"
      ]
     },
     "execution_count": 7,
     "metadata": {},
     "output_type": "execute_result"
    }
   ],
   "source": [
    "def avg(n):\n",
    "    c=0\n",
    "    fact=1\n",
    "    sum=0\n",
    "    for i in range(1,n+1):\n",
    "        fact=fact*i\n",
    "        sum=sum+fact\n",
    "        c+=1\n",
    "    avgg=sum/c\n",
    "    return avgg\n",
    "avg(4)\n",
    "        \n",
    "\n",
    "\n",
    "        "
   ]
  },
  {
   "cell_type": "markdown",
   "metadata": {},
   "source": [
    "#### Function to generate N odd armstrog numbers"
   ]
  },
  {
   "cell_type": "code",
   "execution_count": null,
   "metadata": {},
   "outputs": [],
   "source": [
    "def armstrongnumber(N):\n",
    "    s=0\n",
    "    temp=N\n",
    "    while N>=0:\n",
    "        a=N%10\n",
    "        s=s+(a**3)\n",
    "        N=N//10\n",
    "    if(s==temp):\n",
    "        print(\"armstrong number\")\n",
    "    else:\n",
    "        print(\"not an armstrong number\")\n",
    "    \n",
    "armstrongnumber(153)   "
   ]
  },
  {
   "cell_type": "markdown",
   "metadata": {},
   "source": [
    "### File Encryption\n",
    "       0-4 1-5 2-6 3-7 4-8 5-9 6-0 7-1 8-2 9-3"
   ]
  },
  {
   "cell_type": "code",
   "execution_count": 1,
   "metadata": {},
   "outputs": [],
   "source": [
    "keyfile=\"key.txt\"\n",
    "def generatingkey(keyfile):\n",
    "    with open(keyfile,'w') as f:\n",
    "        for i in range(10):\n",
    "            if i<=5:\n",
    "                f.write(str(i)+\" \"+str(i+4)+\"\\n\")\n",
    "            else:\n",
    "                f.write(str(i)+\" \"+str(i-6)+\"\\n\")\n",
    "    return\n",
    "generatingkey(keyfile)"
   ]
  },
  {
   "cell_type": "markdown",
   "metadata": {},
   "source": [
    "### file decryption"
   ]
  },
  {
   "cell_type": "code",
   "execution_count": 2,
   "metadata": {},
   "outputs": [],
   "source": [
    "keyfile=\"key1.txt\"\n",
    "def reversekey(keyfile):\n",
    "    with open(keyfile,'w') as f:\n",
    "        for i in range(10):\n",
    "            if i>=0 and i<4:\n",
    "                f.write(str(i)+\" \"+str(i+6)+\"\\n\")\n",
    "            else:\n",
    "                f.write(str(i)+\" \"+str(i-4)+\"\\n\")\n",
    "    return\n",
    "reversekey(keyfile)"
   ]
  },
  {
   "cell_type": "markdown",
   "metadata": {},
   "source": [
    "#### function to enrypt the marks file"
   ]
  },
  {
   "cell_type": "code",
   "execution_count": 7,
   "metadata": {},
   "outputs": [],
   "source": [
    "keyfile=\"key.txt\"\n",
    "def dictionarykey(keyfile):\n",
    "    key={}\n",
    "    with open(keyfile,'r') as f:\n",
    "        for i in f:\n",
    "            line=i.split()\n",
    "            key[line[0]]=line[1]\n",
    "    return key\n",
    "#dictionarykey(keyfile)\n",
    "datafile=\"marks.txt\"\n",
    "def encrypt(datafile,keyfile):\n",
    "    key=dictionarykey(keyfile)\n",
    "    with open(datafile,'r') as f:\n",
    "        filedata=f.read().split(\"\\n\")\n",
    "    with open(\"encrypt.txt\",'w') as f:\n",
    "        for mark in filedata:\n",
    "            line=''\n",
    "            for n in mark:\n",
    "                line+=key[n]\n",
    "            f.write(line+\"\\n\")\n",
    "    return\n",
    "encrypt(datafile,keyfile)\n"
   ]
  },
  {
   "cell_type": "code",
   "execution_count": null,
   "metadata": {},
   "outputs": [],
   "source": []
  }
 ],
 "metadata": {
  "kernelspec": {
   "display_name": "Python 3",
   "language": "python",
   "name": "python3"
  },
  "language_info": {
   "codemirror_mode": {
    "name": "ipython",
    "version": 3
   },
   "file_extension": ".py",
   "mimetype": "text/x-python",
   "name": "python",
   "nbconvert_exporter": "python",
   "pygments_lexer": "ipython3",
   "version": "3.7.3"
  }
 },
 "nbformat": 4,
 "nbformat_minor": 2
}
