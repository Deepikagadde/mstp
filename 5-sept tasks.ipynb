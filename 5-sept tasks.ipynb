{
 "cells": [
  {
   "cell_type": "markdown",
   "metadata": {},
   "source": [
    "#### 1.find number of lines in 'book.txt' file"
   ]
  },
  {
   "cell_type": "code",
   "execution_count": 5,
   "metadata": {},
   "outputs": [
    {
     "name": "stdout",
     "output_type": "stream",
     "text": [
      "4\n"
     ]
    }
   ],
   "source": [
    "fh=open('book.txt','r')\n",
    "c=0\n",
    "for i in fh:\n",
    "    c+=1\n",
    "print(c)\n",
    "fh.close()\n",
    "    "
   ]
  },
  {
   "cell_type": "markdown",
   "metadata": {},
   "source": [
    "#### 2.print 3rd line in the file"
   ]
  },
  {
   "cell_type": "code",
   "execution_count": 6,
   "metadata": {},
   "outputs": [
    {
     "name": "stdout",
     "output_type": "stream",
     "text": [
      "line 3\n",
      "\n"
     ]
    }
   ],
   "source": [
    "fh=open('book.txt','r')\n",
    "c=0\n",
    "for i in fh:\n",
    "    c+=1\n",
    "    if c==3:\n",
    "        print(i)\n",
    "fh.close()"
   ]
  },
  {
   "cell_type": "markdown",
   "metadata": {},
   "source": [
    "#### 3.print last character in the 3rd line"
   ]
  },
  {
   "cell_type": "code",
   "execution_count": 9,
   "metadata": {},
   "outputs": [
    {
     "name": "stdout",
     "output_type": "stream",
     "text": [
      "3\n"
     ]
    }
   ],
   "source": [
    "fh=open('book.txt','r')\n",
    "c=0\n",
    "l=0\n",
    "for i in fh:\n",
    "    c+=1\n",
    "    if c==3:\n",
    "        for j in i:\n",
    "            l+=1\n",
    "            if l==6:\n",
    "                print(j)\n",
    "fh.close()\n",
    "        "
   ]
  },
  {
   "cell_type": "code",
   "execution_count": 26,
   "metadata": {},
   "outputs": [
    {
     "name": "stdout",
     "output_type": "stream",
     "text": [
      "3\n"
     ]
    }
   ],
   "source": [
    "fh=open('book.txt','r')\n",
    "c=0\n",
    "for i in fh:\n",
    "    c+=1\n",
    "    if c==3:\n",
    "        print(i[-2])\n",
    "fh.close()"
   ]
  },
  {
   "cell_type": "markdown",
   "metadata": {},
   "source": [
    "#### 4.create function to return the data in given line number"
   ]
  },
  {
   "cell_type": "code",
   "execution_count": 22,
   "metadata": {},
   "outputs": [
    {
     "name": "stdout",
     "output_type": "stream",
     "text": [
      "line 3\n",
      "\n"
     ]
    }
   ],
   "source": [
    "def data(num):\n",
    "    fh=open('book.txt','r')\n",
    "    c=0\n",
    "    for i in fh:\n",
    "        c+=1\n",
    "        if num==c:\n",
    "            print(i)\n",
    "    fh.close()\n",
    "data(3)\n"
   ]
  },
  {
   "cell_type": "markdown",
   "metadata": {},
   "source": [
    "#### 5.create function to find number of characters in file"
   ]
  },
  {
   "cell_type": "code",
   "execution_count": 48,
   "metadata": {},
   "outputs": [
    {
     "name": "stdout",
     "output_type": "stream",
     "text": [
      "23\n"
     ]
    }
   ],
   "source": [
    "def characters(filename):\n",
    "    fh=open(filename,'r')\n",
    "    c=0\n",
    "    for i in fh:\n",
    "        for j in i:\n",
    "            c+=1\n",
    "    print(c)\n",
    "    fh.close()\n",
    "\n",
    "characters('book.txt')\n",
    "            "
   ]
  },
  {
   "cell_type": "markdown",
   "metadata": {},
   "source": [
    "#### 6.create function to count the occcurrence of the given character"
   ]
  },
  {
   "cell_type": "code",
   "execution_count": 52,
   "metadata": {},
   "outputs": [
    {
     "name": "stdout",
     "output_type": "stream",
     "text": [
      "4\n"
     ]
    }
   ],
   "source": [
    "def occurrence(n):\n",
    "    fh=open('book.txt','r')\n",
    "    c=0\n",
    "    for i in fh:\n",
    "        for j in i:\n",
    "            if j==n:\n",
    "                c+=1\n",
    "    print(c)\n",
    "    fh.close()\n",
    "occurrence('o')"
   ]
  },
  {
   "cell_type": "markdown",
   "metadata": {},
   "source": [
    "#### 7. create function to find the sum of digits in file"
   ]
  },
  {
   "cell_type": "code",
   "execution_count": 56,
   "metadata": {},
   "outputs": [
    {
     "name": "stdout",
     "output_type": "stream",
     "text": [
      "10\n"
     ]
    }
   ],
   "source": [
    "def Sum(filename):\n",
    "    fh=open(filename,'r')\n",
    "    c=0\n",
    "    for i in fh:\n",
    "        for j in i:\n",
    "            if j.isdigit():\n",
    "                c=c+int(j)\n",
    "    print(c)\n",
    "    fh.close()\n",
    "Sum('book.txt')"
   ]
  },
  {
   "cell_type": "markdown",
   "metadata": {},
   "source": [
    "#### 8.create function to replace the all old  word with new word in file"
   ]
  },
  {
   "cell_type": "code",
   "execution_count": 57,
   "metadata": {},
   "outputs": [],
   "source": [
    "def replaceword(fileName,oldWord,newWord):\n",
    "    fh=open(fileName,'r')\n",
    "    data=fh.read()\n",
    "    data=data.replace(oldWord,newWord)\n",
    "    fh.close()\n",
    "    fh=open(fileName,'w')\n",
    "    fh.write(data)\n",
    "    fh.close()\n",
    "replaceword('book.txt','line','row')"
   ]
  },
  {
   "cell_type": "markdown",
   "metadata": {},
   "source": [
    "#### 9. find number of words in file"
   ]
  },
  {
   "cell_type": "code",
   "execution_count": 58,
   "metadata": {},
   "outputs": [
    {
     "name": "stdout",
     "output_type": "stream",
     "text": [
      "8\n"
     ]
    }
   ],
   "source": [
    "def words(filename):\n",
    "    fh=open(filename,'r')\n",
    "    c=0\n",
    "    for i in fh:\n",
    "        w=i.split()\n",
    "        c=c+len(w)\n",
    "    print(c)\n",
    "    fh.close()\n",
    "words('book.txt')\n",
    "        \n",
    "        "
   ]
  },
  {
   "cell_type": "markdown",
   "metadata": {},
   "source": [
    "#### 10.create function to remove the given line in file"
   ]
  },
  {
   "cell_type": "code",
   "execution_count": null,
   "metadata": {},
   "outputs": [],
   "source": []
  },
  {
   "cell_type": "markdown",
   "metadata": {},
   "source": [
    "#### 11. create function to remove the given word in file"
   ]
  },
  {
   "cell_type": "code",
   "execution_count": null,
   "metadata": {},
   "outputs": [],
   "source": [
    "replaceword('book.txt','row','')                             #from 8"
   ]
  },
  {
   "cell_type": "code",
   "execution_count": 73,
   "metadata": {},
   "outputs": [],
   "source": [
    "fh=open('book.txt','r')\n",
    "data=fh.read()\n",
    "fh1=open('book2.txt','w')\n",
    "fh1.write(data)\n",
    "fh2=open('book2.txt','a')\n",
    "fh2.write('total')\n",
    "fh2.close()\n",
    "\n",
    "fh.close()\n",
    "fh1.close()"
   ]
  },
  {
   "cell_type": "code",
   "execution_count": null,
   "metadata": {},
   "outputs": [],
   "source": []
  }
 ],
 "metadata": {
  "kernelspec": {
   "display_name": "Python 3",
   "language": "python",
   "name": "python3"
  },
  "language_info": {
   "codemirror_mode": {
    "name": "ipython",
    "version": 3
   },
   "file_extension": ".py",
   "mimetype": "text/x-python",
   "name": "python",
   "nbconvert_exporter": "python",
   "pygments_lexer": "ipython3",
   "version": "3.7.3"
  }
 },
 "nbformat": 4,
 "nbformat_minor": 2
}
