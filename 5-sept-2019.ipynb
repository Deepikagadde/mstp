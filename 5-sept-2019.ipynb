{
 "cells": [
  {
   "cell_type": "markdown",
   "metadata": {},
   "source": [
    "## Working with files in python\n"
   ]
  },
  {
   "cell_type": "markdown",
   "metadata": {},
   "source": [
    "### File:\n",
    "       Document to store information or data"
   ]
  },
  {
   "cell_type": "markdown",
   "metadata": {},
   "source": [
    "### read and write"
   ]
  },
  {
   "cell_type": "markdown",
   "metadata": {},
   "source": [
    "#### 3 steps to work with python:\n",
    "      step 1: open the file.\n",
    "      step 2: do operations what you required.\n",
    "      step 3: close the file"
   ]
  },
  {
   "cell_type": "markdown",
   "metadata": {},
   "source": [
    "#### Reading the file"
   ]
  },
  {
   "cell_type": "code",
   "execution_count": 1,
   "metadata": {},
   "outputs": [
    {
     "name": "stdout",
     "output_type": "stream",
     "text": [
      "line 1\n",
      "line 2\n",
      "line 3\n",
      "line 4\n"
     ]
    }
   ],
   "source": [
    "fh = open('book.txt','r')\n",
    "data=fh.read()\n",
    "print(data)\n",
    "fh.close()"
   ]
  },
  {
   "cell_type": "markdown",
   "metadata": {},
   "source": [
    "#### write into file"
   ]
  },
  {
   "cell_type": "code",
   "execution_count": 3,
   "metadata": {},
   "outputs": [],
   "source": [
    "fh=open('note.txt','w')\n",
    "fh.write('hloo')\n",
    "fh.close()"
   ]
  },
  {
   "cell_type": "code",
   "execution_count": 4,
   "metadata": {},
   "outputs": [],
   "source": [
    "fh=open('book.txt','r')\n",
    "data=fh.read()\n",
    "fh1=open('note.txt','w')\n",
    "fh1.write(data)\n",
    "fh1.close()\n",
    "fh.close()"
   ]
  },
  {
   "cell_type": "markdown",
   "metadata": {},
   "source": [
    "#### append mode"
   ]
  },
  {
   "cell_type": "code",
   "execution_count": 5,
   "metadata": {},
   "outputs": [],
   "source": [
    "fh=open('note.txt','a')\n",
    "fh.write('new line')\n",
    "fh.close()"
   ]
  },
  {
   "cell_type": "code",
   "execution_count": 6,
   "metadata": {},
   "outputs": [
    {
     "name": "stdout",
     "output_type": "stream",
     "text": [
      "line 1\n",
      "\n",
      "line 2\n",
      "\n",
      "line 3\n",
      "\n",
      "line 4\n"
     ]
    }
   ],
   "source": [
    "fh=open('book.txt','r')\n",
    "for line in fh:\n",
    "    print(line)\n",
    "fh.close()"
   ]
  },
  {
   "cell_type": "markdown",
   "metadata": {},
   "source": [
    "### update mode"
   ]
  },
  {
   "cell_type": "code",
   "execution_count": 12,
   "metadata": {},
   "outputs": [],
   "source": [
    "fh=open('book.txt','r+')\n",
    "fh.write('Deepi')\n",
    "fh.close()"
   ]
  },
  {
   "cell_type": "code",
   "execution_count": 13,
   "metadata": {},
   "outputs": [
    {
     "name": "stdout",
     "output_type": "stream",
     "text": [
      "0\n",
      "26\n",
      "5\n",
      "karow 2\n",
      "row 3\n",
      "row 4\n"
     ]
    }
   ],
   "source": [
    "fh=open('book.txt','r')\n",
    "print(fh.tell())                         # to identify the position of the cursor\n",
    "data=fh.read()\n",
    "print(fh.tell())\n",
    "fh.seek(5)\n",
    "print(fh.tell())\n",
    "\n",
    "data=fh.read()\n",
    "print(data)\n",
    "fh.close()"
   ]
  },
  {
   "cell_type": "code",
   "execution_count": 14,
   "metadata": {},
   "outputs": [
    {
     "name": "stdout",
     "output_type": "stream",
     "text": [
      "\n"
     ]
    }
   ],
   "source": [
    "fh=open('book.txt','w+')                         #first it erases all the data and next appends.since it erases all datafirst\n",
    "\n",
    "print(fh.read())\n",
    "\n",
    "fh.close()"
   ]
  },
  {
   "cell_type": "code",
   "execution_count": 19,
   "metadata": {},
   "outputs": [
    {
     "name": "stdout",
     "output_type": "stream",
     "text": [
      "line 2\n",
      " <class 'str'>\n"
     ]
    }
   ],
   "source": [
    "fh=open('book.txt','r')\n",
    "data =fh.readline()\n",
    "data=fh.readline()\n",
    "print(data,type(data))\n",
    "fh.close()"
   ]
  },
  {
   "cell_type": "code",
   "execution_count": 20,
   "metadata": {},
   "outputs": [
    {
     "name": "stdout",
     "output_type": "stream",
     "text": [
      "['line 2\\n', 'line 3\\n', 'line 4'] <class 'list'>\n"
     ]
    }
   ],
   "source": [
    "fh=open('book.txt','r')\n",
    "data =fh.readline()\n",
    "data=fh.readlines()\n",
    "print(data,type(data))\n",
    "fh.close()"
   ]
  },
  {
   "cell_type": "code",
   "execution_count": null,
   "metadata": {},
   "outputs": [],
   "source": []
  }
 ],
 "metadata": {
  "kernelspec": {
   "display_name": "Python 3",
   "language": "python",
   "name": "python3"
  },
  "language_info": {
   "codemirror_mode": {
    "name": "ipython",
    "version": 3
   },
   "file_extension": ".py",
   "mimetype": "text/x-python",
   "name": "python",
   "nbconvert_exporter": "python",
   "pygments_lexer": "ipython3",
   "version": "3.7.3"
  }
 },
 "nbformat": 4,
 "nbformat_minor": 2
}
